{
 "cells": [
  {
   "cell_type": "markdown",
   "metadata": {},
   "source": [
    "# Zach's Notebook Walktrhough\n",
    "https://nbviewer.jupyter.org/urls/zgul.de/hypothesis-testing.ipynb"
   ]
  },
  {
   "cell_type": "code",
   "execution_count": 1,
   "metadata": {},
   "outputs": [],
   "source": [
    "import math\n",
    "\n",
    "import numpy as np\n",
    "import pandas as pd\n",
    "import matplotlib.pyplot as plt\n",
    "from scipy import stats"
   ]
  },
  {
   "cell_type": "code",
   "execution_count": 3,
   "metadata": {},
   "outputs": [],
   "source": [
    "plt.rc('figure', figsize=(16, 9))\n",
    "plt.rc('axes.spines', top=False, right=False)\n",
    "plt.rc('patch', ec='black', force_edgecolor=True)\n",
    "plt.rc('font', size=13)\n",
    "\n",
    "np.random.seed(13)"
   ]
  },
  {
   "cell_type": "markdown",
   "metadata": {},
   "source": [
    "### Simulation Based Approach"
   ]
  },
  {
   "cell_type": "markdown",
   "metadata": {},
   "source": [
    "- Example: Codeup starts producing a scratch off lottery ticket called \"Golden Codys\". The odds of winning a prize must be advertised to the state, and since we are manufacturing the tickets, we know exactly how many winners and losers there are.\n",
    "- Theory: Our population is the 1000 tickets we have manufactured\n",
    "- Implementation: Create a boolean pandas Series\n",
    "    - we model win with true and lose with false\n",
    "    - because of this, we can take the mean of a series to measure the likelihood of winning"
   ]
  },
  {
   "cell_type": "code",
   "execution_count": 38,
   "metadata": {},
   "outputs": [
    {
     "name": "stdout",
     "output_type": "stream",
     "text": [
      "The actual probability of winning is 0.10\n"
     ]
    },
    {
     "data": {
      "image/png": "[encoded data removed]",
      "text/plain": [
       "<Figure size 1152x648 with 1 Axes>"
      ]
     },
     "metadata": {
      "needs_background": "light"
     },
     "output_type": "display_data"
    }
   ],
   "source": [
    "#creating the odds to be one golden ducky per ten golden duckies\n",
    "tickets = pd.Series([True] * 100 + [False] * 900)\n",
    "tickets.value_counts().set_axis(['Lose', 'Win']).plot.bar(color='khaki')\n",
    "plt.xticks(rotation=0)\n",
    "print('The actual probability of winning is %.2f' % tickets.mean())"
   ]
  },
  {
   "cell_type": "markdown",
   "metadata": {},
   "source": [
    "- Scenario: Each student in a classroom is given a Golden Cody scratch off at random\n",
    "- Theory\n",
    "    - We we take a random sample and calculate the win rate, we won't expect to see exactly 10% even though we know that is what the overall rate is.\n",
    "\n",
    "- Examples of biased samples:\n",
    "\n",
    "    - non-response: people that don't respond are a diff population\n",
    "    - undercoverage: some groups aren't well represented\n",
    "    - voluntary: people volunteer for surveys\n",
    "    - leading questions\n",
    "    - social desirability\n",
    "\n",
    "- Implementation: Use the .sample method on our series to randomly choose 20 tickets, representing 20 students in a classroom. Use .mean to calculate what percentage of the values are True, or are winning tickets."
   ]
  },
  {
   "cell_type": "code",
   "execution_count": 50,
   "metadata": {},
   "outputs": [
    {
     "data": {
      "text/plain": [
       "0.25"
      ]
     },
     "execution_count": 50,
     "metadata": {},
     "output_type": "execute_result"
    }
   ],
   "source": [
    "#random sample with win rate of %10\n",
    "n = 20\n",
    "tickets.sample(n).mean()"
   ]
  },
  {
   "cell_type": "markdown",
   "metadata": {},
   "source": [
    "- Scenario: each student in 4 different cohorts is given a Golden Codys scratch off ticket, we want to calculate the win rate for each classroom.\n",
    "- Theory: it is unlikely any classroom will have exactly a 10% winrate, instead we will see slightly different numbers for each classroom.\n",
    "- Implementation: loop through a range of 10 to get a sample and calculate the winrate 10 times. Each of the 10 numbers produced represents the calculated winrate for one classroom of 20 students."
   ]
  },
  {
   "cell_type": "code",
   "execution_count": 57,
   "metadata": {},
   "outputs": [
    {
     "data": {
      "text/plain": [
       "[0.1, 0.05, 0.05, 0.1, 0.15, 0.05, 0.15, 0.05, 0.15, 0.15]"
      ]
     },
     "execution_count": 57,
     "metadata": {},
     "output_type": "execute_result"
    }
   ],
   "source": [
    "[tickets.sample(n).mean() for _ in range(10)]"
   ]
  },
  {
   "cell_type": "markdown",
   "metadata": {},
   "source": [
    "- Theory: The winrates we see aren't ever exactly 10%, but we would expect the rate to be closer to 10% than further away. That is, it is more likely that a classroom will come up with a win rate of 9% than a winrate of 20%.\n",
    "\n",
    "    - If we were to repeat this experiment a whole bunch of times, say 10,000, we would find that the calculated winrates are, in fact, normally distributed.\n",
    "\n",
    "    - That is, we would expect the calculated average winrate for a classroom to follow a normal distribution, even though the underlying random process is not based on a normal distribution\n",
    "\n",
    "- Implementation: To visualize this, we'll create a series full of calculated winrates for 10,000 classrooms, each classroom made up of 20 students. That is, we will simulate 10,000 classrooms of 20 students getting Golden Codys and calculate the average winrate for each of the 10,000 classrooms."
   ]
  },
  {
   "cell_type": "code",
   "execution_count": 110,
   "metadata": {},
   "outputs": [
    {
     "data": {
      "text/plain": [
       "<matplotlib.axes._subplots.AxesSubplot at 0x7ff44b47ee50>"
      ]
     },
     "execution_count": 110,
     "metadata": {},
     "output_type": "execute_result"
    },
    {
     "data": {
      "image/png": "[encoded data removed]",
      "text/plain": [
       "<Figure size 1152x648 with 1 Axes>"
      ]
     },
     "metadata": {
      "needs_background": "light"
     },
     "output_type": "display_data"
    }
   ],
   "source": [
    "calculated_winrates = pd.Series([tickets.sample(n).mean() for _ in range(10_000)])\n",
    "calculated_winrates.plot.hist(bins=10,color='khaki')"
   ]
  },
  {
   "cell_type": "markdown",
   "metadata": {},
   "source": [
    "- Theory: The above visual represents the sampling distribution for the winrate of Golden Codys, based on a class of 20.\n",
    "\n",
    "- The Central Limit Theorm says that sampling distribution will be normally distributed even if the underlying random variable isn't."
   ]
  },
  {
   "cell_type": "markdown",
   "metadata": {},
   "source": [
    "- Theory: in practice, we won't have 10,000 samples to work with, but rather just 1. We can stil rely on the sampling distribution being normally distributed, and this has some intersting properties.\n",
    "- the mean of the sampling distribution of the sample means will be the \"true\" mean\n",
    "- the variance of the sampling distribution is the population variable divided by the sample size\n",
    "- the standard deviation of the sampling distribution is pqn‾‾‾√ (for our example), aka the standard error"
   ]
  },
  {
   "cell_type": "code",
   "execution_count": 69,
   "metadata": {},
   "outputs": [
    {
     "name": "stdout",
     "output_type": "stream",
     "text": [
      "0.0670820393249937\n"
     ]
    }
   ],
   "source": [
    "se = math.sqrt((.10 * .90) / n)\n",
    "print(se)"
   ]
  },
  {
   "cell_type": "markdown",
   "metadata": {},
   "source": [
    "Let's compare our calculated standard error (i.e. the standard deviation of the sample means) to the experimental value:"
   ]
  },
  {
   "cell_type": "code",
   "execution_count": 70,
   "metadata": {},
   "outputs": [
    {
     "name": "stdout",
     "output_type": "stream",
     "text": [
      "SE:                 0.0671\n",
      "sample_means.std(): 0.0664\n"
     ]
    }
   ],
   "source": [
    "print('SE:                 %.4f' % se)\n",
    "print('sample_means.std(): %.4f' % calculated_winrates.std())"
   ]
  },
  {
   "cell_type": "markdown",
   "metadata": {},
   "source": [
    "- That the sampling distribution being normally distributed is very powerful and has important implications:\n",
    "\n",
    "    - confidence intervals for population parameter estimates (e.g. estimating the population mean)\n",
    "    - as n goes up, interval becomes smaller\n",
    "    - as certainty goes up, interval becomes larger\n",
    "    - 99% of calculated CIs will contain the true mean (e.g. if we ran simulations and re-sampled, 99% of the simulations' calculated CIs would contain the true mean)\n",
    "- hypothesis testing\n",
    "    - One classroom calculates their winrate at 7% and claims the tickets were distributed unfairly. What is the likelihood we observe a 7% (or smaller) winrate just due to chance?"
   ]
  },
  {
   "cell_type": "code",
   "execution_count": 72,
   "metadata": {},
   "outputs": [
    {
     "data": {
      "text/plain": [
       "0.315547532357701"
      ]
     },
     "execution_count": 72,
     "metadata": {},
     "output_type": "execute_result"
    }
   ],
   "source": [
    "mean = calculated_winrates.mean()\n",
    "sd = calculated_winrates.std()\n",
    "\n",
    "stats.norm(mean, sd).cdf(.07)"
   ]
  },
  {
   "cell_type": "markdown",
   "metadata": {},
   "source": [
    "The probability we've calculated is a p-value. The likelihood that we observe the data that we have if the null hypothesis is true."
   ]
  },
  {
   "cell_type": "markdown",
   "metadata": {},
   "source": [
    "### Null and Alternative Hypothesis\n",
    "- H0: status quo: no difference or no effect\n",
    "- Ha: alternative: there is a difference or effect\n",
    "- whether Ha is ≠, <, >, determines one-tailed vs two-tailed test\n",
    "    - < or > == one-tailed\n",
    "    - ≠ == two-tailed"
   ]
  },
  {
   "cell_type": "markdown",
   "metadata": {},
   "source": [
    "### Mini Exercise -- CLT\n",
    "- Calculate, theoretically (in your head is fine), the expected value for the average of 6 dice rolls.\n",
    "- Write the code necessary to simulate taking the average of 6 dice rolls 10,000 times. Store each of the 10,000 averages in a list.\n",
    "- Plot the distribution of the calculated averages. What do you notice about the shape of the distribution of calculated averages? What kind of distribution is the underlying random variable (i.e. one dice roll?)"
   ]
  },
  {
   "cell_type": "code",
   "execution_count": 77,
   "metadata": {},
   "outputs": [
    {
     "name": "stdout",
     "output_type": "stream",
     "text": [
      "3.5\n"
     ]
    }
   ],
   "source": [
    "#theoretically, each dice number has equal chance to be rolled, we take the average of that\n",
    "theory_prob = (6 + 5 + 4 + 3 + 2 + 1)/6"
   ]
  },
  {
   "cell_type": "code",
   "execution_count": 97,
   "metadata": {},
   "outputs": [
    {
     "data": {
      "text/html": [
       "<div>\n",
       "<style scoped>\n",
       "    .dataframe tbody tr th:only-of-type {\n",
       "        vertical-align: middle;\n",
       "    }\n",
       "\n",
       "    .dataframe tbody tr th {\n",
       "        vertical-align: top;\n",
       "    }\n",
       "\n",
       "    .dataframe thead th {\n",
       "        text-align: right;\n",
       "    }\n",
       "</style>\n",
       "<table border=\"1\" class=\"dataframe\">\n",
       "  <thead>\n",
       "    <tr style=\"text-align: right;\">\n",
       "      <th></th>\n",
       "      <th>0</th>\n",
       "      <th>1</th>\n",
       "      <th>2</th>\n",
       "      <th>3</th>\n",
       "      <th>4</th>\n",
       "      <th>5</th>\n",
       "      <th>average_rolls</th>\n",
       "    </tr>\n",
       "  </thead>\n",
       "  <tbody>\n",
       "    <tr>\n",
       "      <th>0</th>\n",
       "      <td>3</td>\n",
       "      <td>6</td>\n",
       "      <td>5</td>\n",
       "      <td>1</td>\n",
       "      <td>5</td>\n",
       "      <td>3</td>\n",
       "      <td>3.833333</td>\n",
       "    </tr>\n",
       "    <tr>\n",
       "      <th>1</th>\n",
       "      <td>6</td>\n",
       "      <td>5</td>\n",
       "      <td>6</td>\n",
       "      <td>6</td>\n",
       "      <td>1</td>\n",
       "      <td>2</td>\n",
       "      <td>4.333333</td>\n",
       "    </tr>\n",
       "    <tr>\n",
       "      <th>2</th>\n",
       "      <td>4</td>\n",
       "      <td>5</td>\n",
       "      <td>6</td>\n",
       "      <td>2</td>\n",
       "      <td>3</td>\n",
       "      <td>4</td>\n",
       "      <td>4.000000</td>\n",
       "    </tr>\n",
       "    <tr>\n",
       "      <th>3</th>\n",
       "      <td>2</td>\n",
       "      <td>3</td>\n",
       "      <td>6</td>\n",
       "      <td>6</td>\n",
       "      <td>3</td>\n",
       "      <td>1</td>\n",
       "      <td>3.500000</td>\n",
       "    </tr>\n",
       "    <tr>\n",
       "      <th>4</th>\n",
       "      <td>6</td>\n",
       "      <td>2</td>\n",
       "      <td>4</td>\n",
       "      <td>3</td>\n",
       "      <td>4</td>\n",
       "      <td>3</td>\n",
       "      <td>3.666667</td>\n",
       "    </tr>\n",
       "    <tr>\n",
       "      <th>...</th>\n",
       "      <td>...</td>\n",
       "      <td>...</td>\n",
       "      <td>...</td>\n",
       "      <td>...</td>\n",
       "      <td>...</td>\n",
       "      <td>...</td>\n",
       "      <td>...</td>\n",
       "    </tr>\n",
       "    <tr>\n",
       "      <th>9995</th>\n",
       "      <td>4</td>\n",
       "      <td>6</td>\n",
       "      <td>2</td>\n",
       "      <td>2</td>\n",
       "      <td>1</td>\n",
       "      <td>3</td>\n",
       "      <td>3.000000</td>\n",
       "    </tr>\n",
       "    <tr>\n",
       "      <th>9996</th>\n",
       "      <td>6</td>\n",
       "      <td>6</td>\n",
       "      <td>5</td>\n",
       "      <td>2</td>\n",
       "      <td>4</td>\n",
       "      <td>6</td>\n",
       "      <td>4.833333</td>\n",
       "    </tr>\n",
       "    <tr>\n",
       "      <th>9997</th>\n",
       "      <td>1</td>\n",
       "      <td>4</td>\n",
       "      <td>6</td>\n",
       "      <td>3</td>\n",
       "      <td>5</td>\n",
       "      <td>6</td>\n",
       "      <td>4.166667</td>\n",
       "    </tr>\n",
       "    <tr>\n",
       "      <th>9998</th>\n",
       "      <td>4</td>\n",
       "      <td>4</td>\n",
       "      <td>6</td>\n",
       "      <td>1</td>\n",
       "      <td>5</td>\n",
       "      <td>4</td>\n",
       "      <td>4.000000</td>\n",
       "    </tr>\n",
       "    <tr>\n",
       "      <th>9999</th>\n",
       "      <td>2</td>\n",
       "      <td>5</td>\n",
       "      <td>1</td>\n",
       "      <td>5</td>\n",
       "      <td>4</td>\n",
       "      <td>4</td>\n",
       "      <td>3.500000</td>\n",
       "    </tr>\n",
       "  </tbody>\n",
       "</table>\n",
       "<p>10000 rows × 7 columns</p>\n",
       "</div>"
      ],
      "text/plain": [
       "      0  1  2  3  4  5  average_rolls\n",
       "0     3  6  5  1  5  3       3.833333\n",
       "1     6  5  6  6  1  2       4.333333\n",
       "2     4  5  6  2  3  4       4.000000\n",
       "3     2  3  6  6  3  1       3.500000\n",
       "4     6  2  4  3  4  3       3.666667\n",
       "...  .. .. .. .. .. ..            ...\n",
       "9995  4  6  2  2  1  3       3.000000\n",
       "9996  6  6  5  2  4  6       4.833333\n",
       "9997  1  4  6  3  5  6       4.166667\n",
       "9998  4  4  6  1  5  4       4.000000\n",
       "9999  2  5  1  5  4  4       3.500000\n",
       "\n",
       "[10000 rows x 7 columns]"
      ]
     },
     "execution_count": 97,
     "metadata": {},
     "output_type": "execute_result"
    }
   ],
   "source": [
    "rolls = np.random.choice([1,2,3,4,5,6],size = 6 * 10_000).reshape(10_000, 6)\n",
    "rolls_df = pd.DataFrame(rolls)\n",
    "rolls_df['average_rolls'] = rolls_df.mean(axis=1)"
   ]
  },
  {
   "cell_type": "code",
   "execution_count": 106,
   "metadata": {},
   "outputs": [
    {
     "data": {
      "text/plain": [
       "<matplotlib.axes._subplots.AxesSubplot at 0x7ff44b698190>"
      ]
     },
     "execution_count": 106,
     "metadata": {},
     "output_type": "execute_result"
    },
    {
     "data": {
      "image/png": "[encoded data removed]",
      "text/plain": [
       "<Figure size 1152x648 with 1 Axes>"
      ]
     },
     "metadata": {
      "needs_background": "light"
     },
     "output_type": "display_data"
    }
   ],
   "source": [
    "y = rolls_df['average_rolls']\n",
    "\n",
    "y.plot.hist(bins=12)"
   ]
  },
  {
   "cell_type": "markdown",
   "metadata": {},
   "source": [
    "# A Uniform Distribution\n",
    "The average is as expected with our theoretical average"
   ]
  },
  {
   "cell_type": "markdown",
   "metadata": {},
   "source": [
    "# Overview Exercises\n",
    "### For each of the following questions, formulate a null and alternative hypothesis (be as specific as you can be), then give an example of what a true positive, true negative, type I and type II errors would look like. Note that some of the questions are intentionally phrased in a vague way. It is your job to reword these as more precise questions that could be tested."
   ]
  },
  {
   "cell_type": "markdown",
   "metadata": {},
   "source": [
    "### Has the network latency gone up since we switched internet service providers?\n",
    "Has the speed of internet slowed down after changing internet service providers?"
   ]
  },
  {
   "cell_type": "markdown",
   "metadata": {},
   "source": [
    "##### null hypothesis\n",
    "There is no difference in network speed since changing internet service providers."
   ]
  },
  {
   "cell_type": "markdown",
   "metadata": {},
   "source": [
    "##### alternative hypothesis\n",
    "The network speed has slowed down since changing internet service providers."
   ]
  },
  {
   "cell_type": "markdown",
   "metadata": {},
   "source": [
    "##### true positive\n",
    "Since p is 0 within 10 decimal places, we can safely reject the null hypothesis of no linear correlation. Less formally, it seems as though the speed of network and internet service provider are very related."
   ]
  },
  {
   "cell_type": "markdown",
   "metadata": {},
   "source": [
    "##### true negative\n",
    "With such a high p-value, we fail to reject the null hypothesis. Less formally, it seems as though two groups are independent of each other and the speed of network has not changed with different internet service providers."
   ]
  },
  {
   "cell_type": "markdown",
   "metadata": {},
   "source": [
    "##### type I error\n",
    "We reject the null hypothesis with testing and decide to switch internet providers. In actuality, the internet provider did not affect the speed of internet, and it stays the same after switching."
   ]
  },
  {
   "cell_type": "markdown",
   "metadata": {},
   "source": [
    "##### type II error\n",
    "We accept the null hypothesis and stay with the same internet provider. However, the provider was causing a slower network speed, and it continues to affect the internet latency."
   ]
  },
  {
   "cell_type": "markdown",
   "metadata": {},
   "source": [
    "### Is the website redesign any good?\n",
    "Do less customers use our website after redesigning?"
   ]
  },
  {
   "cell_type": "markdown",
   "metadata": {},
   "source": [
    "##### null hypothesis\n",
    "There is no change in rate of customers using the website."
   ]
  },
  {
   "cell_type": "markdown",
   "metadata": {},
   "source": [
    "##### alternative hypothesis\n",
    "Less customers have been using the website after the redesign."
   ]
  },
  {
   "cell_type": "markdown",
   "metadata": {},
   "source": [
    "##### true positive\n",
    "Since p is 0 within 10 decimal places, we can safely reject the null hypothesis of no linear correlation. Less formally, it seems as though the web redesign has cause less customers to visit the website."
   ]
  },
  {
   "cell_type": "markdown",
   "metadata": {},
   "source": [
    "##### true negative\n",
    "With such a high p-value, we fail to reject the null hypothesis. Less formally, it seems as though two groups are independent of each other and the redesigned website has not changed the rate of customers visting the site."
   ]
  },
  {
   "cell_type": "markdown",
   "metadata": {},
   "source": [
    "##### type I error\n",
    "We reject the null hypothesis with testing and decide to redesign the website again. In actuality, the original redesign did not affect the rate of customers visiting the site, and we spent money on redesigning for nothing. \n",
    ":/"
   ]
  },
  {
   "cell_type": "markdown",
   "metadata": {},
   "source": [
    "##### type II error\n",
    "We accept the null hypothesis and do not change the website again. However, the redesign is continuing to cause customers to use our site less."
   ]
  },
  {
   "cell_type": "markdown",
   "metadata": {},
   "source": [
    "### Is our television ad driving more sales?\n",
    "Do we have an increase in sales after broadcasting our television ad?"
   ]
  },
  {
   "cell_type": "markdown",
   "metadata": {},
   "source": [
    "##### null hypothesis\n",
    "We have the same amount of sales after broadcasting out television ad."
   ]
  },
  {
   "cell_type": "markdown",
   "metadata": {},
   "source": [
    "##### alternative hypothesis\n",
    "Our amount of sales have changed after broadcasting our television ad."
   ]
  },
  {
   "cell_type": "markdown",
   "metadata": {},
   "source": [
    "##### true positive\n",
    "Since p is 0 within 10 decimal places, we can safely reject the null hypothesis of no linear correlation. Less formally, we have an increase (or decrease if controversial! o.o) of sales after broadcasting our television ad."
   ]
  },
  {
   "cell_type": "markdown",
   "metadata": {},
   "source": [
    "##### true negative\n",
    "With such a high p-value, we fail to reject the null hypothesis. Less formally, the television advertisment did not cause a change in rate of sales."
   ]
  },
  {
   "cell_type": "markdown",
   "metadata": {},
   "source": [
    "##### type I error\n",
    "We reject the null hypothesis with testing and decide to keep playing the ad. In actuality, we do not have an increase of sales and lose money. :?"
   ]
  },
  {
   "cell_type": "markdown",
   "metadata": {},
   "source": [
    "##### type II error\n",
    "We accept the null hypothesis and stop playing the television ad. However, the advertisment did cause an increase in sales and now we no longer have an increase."
   ]
  },
  {
   "cell_type": "markdown",
   "metadata": {},
   "source": [
    "# T-Test Exercises"
   ]
  },
  {
   "cell_type": "markdown",
   "metadata": {},
   "source": [
    "### Ace Realty wants to determine whether the average time it takes to sell homes is different for its two offices. A sample of 40 sales from office #1 revealed a mean of 90 days and a standard deviation of 15 days. A sample of 50 sales from office #2 revealed a mean of 100 days and a standard deviation of 20 days. Use a .05 level of significance."
   ]
  },
  {
   "cell_type": "markdown",
   "metadata": {},
   "source": [
    "- Comparing both offices to see if less than or higher than each other\n",
    "- We will use two tail T-test"
   ]
  },
  {
   "cell_type": "code",
   "execution_count": null,
   "metadata": {},
   "outputs": [],
   "source": [
    "x1 = df[df.study_strategy == 'flashcards'].exam_score\n",
    "x2 = df[df.study_strategy != 'flashcards'].exam_score\n",
    "\n",
    "xbar1 = x1.mean()\n",
    "xbar2 = x2.mean()\n",
    "\n",
    "n1 = x1.shape[0]\n",
    "n2 = x2.shape[0]\n",
    "\n",
    "s1 = x1.std()\n",
    "s2 = x2.std()\n",
    "\n",
    "degf = n1 + n2 - 2\n",
    "\n",
    "s_p = sqrt(((n1 - 1) * s1**2 + (n2 - 1) * s2**2) / (n1 + n2 - 2))\n",
    "s_p\n",
    "\n",
    "standard_error = se = sqrt(s1**2 / n1 + s2**2 / n2)\n",
    "\n",
    "t = (xbar1 - xbar2) / (s_p * sqrt(1/n1 + 1/n2))\n",
    "t"
   ]
  },
  {
   "cell_type": "code",
   "execution_count": 61,
   "metadata": {},
   "outputs": [
    {
     "name": "stdout",
     "output_type": "stream",
     "text": [
      "t = -41.19856\n",
      "p = 2.00000\n"
     ]
    }
   ],
   "source": [
    "from math import sqrt\n",
    "from scipy import stats\n",
    "\n",
    "office_1 = np.random.normal(90, 15, size = 10_000)\n",
    "office_2 = np.random.normal(100,20, size = 10_000)\n",
    "\n",
    "xbar1 = office_1.mean()\n",
    "xbar2 = office_2.mean()\n",
    "\n",
    "n1 = office_1.shape[0]\n",
    "n2 = office_2.shape[0]\n",
    "\n",
    "s1 = office_1.std()\n",
    "s2 = office_2.std()\n",
    "\n",
    "degf = n1 + n2 - 2\n",
    "\n",
    "s_p = sqrt(((n1 - 1) * s1**2 + (n2 - 1) * s2**2) / (n1 + n2 - 2))\n",
    "s_p\n",
    "\n",
    "standard_error = se = sqrt(s1**2 / n1 + s2**2 / n2)\n",
    "\n",
    "t = (xbar1 - xbar2) / (s_p * sqrt(1/n1 + 1/n2))\n",
    "t\n",
    "\n",
    "p = stats.t(degf).sf(t) * 2\n",
    "\n",
    "print(f't = {t:.5f}')\n",
    "print(f'p = {p:.5f}')"
   ]
  },
  {
   "cell_type": "markdown",
   "metadata": {},
   "source": [
    "### Load the mpg dataset and use it to answer the following questions:"
   ]
  },
  {
   "cell_type": "code",
   "execution_count": 75,
   "metadata": {},
   "outputs": [
    {
     "data": {
      "text/html": [
       "<div>\n",
       "<style scoped>\n",
       "    .dataframe tbody tr th:only-of-type {\n",
       "        vertical-align: middle;\n",
       "    }\n",
       "\n",
       "    .dataframe tbody tr th {\n",
       "        vertical-align: top;\n",
       "    }\n",
       "\n",
       "    .dataframe thead th {\n",
       "        text-align: right;\n",
       "    }\n",
       "</style>\n",
       "<table border=\"1\" class=\"dataframe\">\n",
       "  <thead>\n",
       "    <tr style=\"text-align: right;\">\n",
       "      <th></th>\n",
       "      <th>manufacturer</th>\n",
       "      <th>model</th>\n",
       "      <th>displ</th>\n",
       "      <th>year</th>\n",
       "      <th>cyl</th>\n",
       "      <th>trans</th>\n",
       "      <th>drv</th>\n",
       "      <th>cty</th>\n",
       "      <th>hwy</th>\n",
       "      <th>fl</th>\n",
       "      <th>class</th>\n",
       "      <th>avg_mpg</th>\n",
       "    </tr>\n",
       "  </thead>\n",
       "  <tbody>\n",
       "    <tr>\n",
       "      <th>1</th>\n",
       "      <td>audi</td>\n",
       "      <td>a4</td>\n",
       "      <td>1.8</td>\n",
       "      <td>1999</td>\n",
       "      <td>4</td>\n",
       "      <td>auto(l5)</td>\n",
       "      <td>f</td>\n",
       "      <td>18</td>\n",
       "      <td>29</td>\n",
       "      <td>p</td>\n",
       "      <td>compact</td>\n",
       "      <td>23.5</td>\n",
       "    </tr>\n",
       "    <tr>\n",
       "      <th>2</th>\n",
       "      <td>audi</td>\n",
       "      <td>a4</td>\n",
       "      <td>1.8</td>\n",
       "      <td>1999</td>\n",
       "      <td>4</td>\n",
       "      <td>manual(m5)</td>\n",
       "      <td>f</td>\n",
       "      <td>21</td>\n",
       "      <td>29</td>\n",
       "      <td>p</td>\n",
       "      <td>compact</td>\n",
       "      <td>25.0</td>\n",
       "    </tr>\n",
       "    <tr>\n",
       "      <th>3</th>\n",
       "      <td>audi</td>\n",
       "      <td>a4</td>\n",
       "      <td>2.0</td>\n",
       "      <td>2008</td>\n",
       "      <td>4</td>\n",
       "      <td>manual(m6)</td>\n",
       "      <td>f</td>\n",
       "      <td>20</td>\n",
       "      <td>31</td>\n",
       "      <td>p</td>\n",
       "      <td>compact</td>\n",
       "      <td>25.5</td>\n",
       "    </tr>\n",
       "    <tr>\n",
       "      <th>4</th>\n",
       "      <td>audi</td>\n",
       "      <td>a4</td>\n",
       "      <td>2.0</td>\n",
       "      <td>2008</td>\n",
       "      <td>4</td>\n",
       "      <td>auto(av)</td>\n",
       "      <td>f</td>\n",
       "      <td>21</td>\n",
       "      <td>30</td>\n",
       "      <td>p</td>\n",
       "      <td>compact</td>\n",
       "      <td>25.5</td>\n",
       "    </tr>\n",
       "    <tr>\n",
       "      <th>5</th>\n",
       "      <td>audi</td>\n",
       "      <td>a4</td>\n",
       "      <td>2.8</td>\n",
       "      <td>1999</td>\n",
       "      <td>6</td>\n",
       "      <td>auto(l5)</td>\n",
       "      <td>f</td>\n",
       "      <td>16</td>\n",
       "      <td>26</td>\n",
       "      <td>p</td>\n",
       "      <td>compact</td>\n",
       "      <td>21.0</td>\n",
       "    </tr>\n",
       "  </tbody>\n",
       "</table>\n",
       "</div>"
      ],
      "text/plain": [
       "  manufacturer model  displ  year  cyl       trans drv  cty  hwy fl    class  \\\n",
       "1         audi    a4    1.8  1999    4    auto(l5)   f   18   29  p  compact   \n",
       "2         audi    a4    1.8  1999    4  manual(m5)   f   21   29  p  compact   \n",
       "3         audi    a4    2.0  2008    4  manual(m6)   f   20   31  p  compact   \n",
       "4         audi    a4    2.0  2008    4    auto(av)   f   21   30  p  compact   \n",
       "5         audi    a4    2.8  1999    6    auto(l5)   f   16   26  p  compact   \n",
       "\n",
       "   avg_mpg  \n",
       "1     23.5  \n",
       "2     25.0  \n",
       "3     25.5  \n",
       "4     25.5  \n",
       "5     21.0  "
      ]
     },
     "execution_count": 75,
     "metadata": {},
     "output_type": "execute_result"
    }
   ],
   "source": [
    "from pydataset import data\n",
    "mpg = data('mpg')\n",
    "mpg['avg_mpg'] = (mpg.cty + mpg.hwy)/2\n",
    "mpg.head()"
   ]
  },
  {
   "cell_type": "markdown",
   "metadata": {},
   "source": [
    "##### Is there a difference in fuel-efficiency in cars from 2008 vs 1999?"
   ]
  },
  {
   "cell_type": "code",
   "execution_count": null,
   "metadata": {},
   "outputs": [],
   "source": [
    "# Null Hypothesis = there is no difference between mpg of cars from 2008 and 1999"
   ]
  },
  {
   "cell_type": "code",
   "execution_count": null,
   "metadata": {},
   "outputs": [],
   "source": [
    "# Alternate Hypothesis, one year has better average mpg than the other year"
   ]
  },
  {
   "cell_type": "code",
   "execution_count": 121,
   "metadata": {},
   "outputs": [
    {
     "name": "stdout",
     "output_type": "stream",
     "text": [
      "t = -0.21960\n",
      "p = 1.17363\n"
     ]
    }
   ],
   "source": [
    "fe_2008 = mpg[mpg.year == 2008].avg_mpg\n",
    "fe_1999 = mpg[mpg.year == 1999].avg_mpg\n",
    "\n",
    "xbar1 = fe_2008.mean()\n",
    "xbar2 = fe_1999.mean()\n",
    "\n",
    "n1 = fe_2008.shape[0]\n",
    "n2 = fe_1999.shape[0]\n",
    "\n",
    "s1 = fe_2008.std()\n",
    "s2 = fe_1999.std()\n",
    "\n",
    "degf = n1 + n2 - 2\n",
    "\n",
    "s_p = sqrt((((n1 - 1) * (s1**2)) + ((n2 - 1) * (s2**2))) / (n1 + n2 - 2))\n",
    "s_p\n",
    "\n",
    "standard_error = se = sqrt((s1**2 / n1) + (s2**2 / n2))\n",
    "\n",
    "t = (xbar1 - xbar2) / (s_p * sqrt(1/n1 + 1/n2))\n",
    "\n",
    "p = stats.t(degf).sf(t) * 2\n",
    "\n",
    "print(f't = {t:.5f}')\n",
    "print(f'p = {p:.5f}')"
   ]
  },
  {
   "cell_type": "markdown",
   "metadata": {},
   "source": [
    "##### Are compact cars more fuel-efficient than the average car?"
   ]
  },
  {
   "cell_type": "code",
   "execution_count": null,
   "metadata": {},
   "outputs": [],
   "source": [
    "# Null Hypothesis = there is no difference between mpg of compact cars to all cars"
   ]
  },
  {
   "cell_type": "code",
   "execution_count": null,
   "metadata": {},
   "outputs": [],
   "source": [
    "# Alternative hypothesis = compact cars are more fuel efficient"
   ]
  },
  {
   "cell_type": "code",
   "execution_count": 122,
   "metadata": {},
   "outputs": [
    {
     "name": "stdout",
     "output_type": "stream",
     "text": [
      "2.0992818971585668e-10\n",
      "t = 7.897\n",
      "p = 0.000\n"
     ]
    }
   ],
   "source": [
    "compact_cars = mpg[mpg['class'] == 'compact']\n",
    "\n",
    "μ = mpg.avg_mpg.mean()\n",
    "xbar = compact_cars.avg_mpg.mean()\n",
    "\n",
    "s = compact_cars.avg_mpg.std()\n",
    "n = compact_cars.shape[0]\n",
    "\n",
    "degf = n - 1\n",
    "standard_error = s / sqrt(n)\n",
    "\n",
    "t = (xbar - μ) / (s / sqrt(n))\n",
    "\n",
    "p = stats.t(degf).sf(t)\n",
    "print(p)\n",
    "\n",
    "print(f't = {t:.3f}')\n",
    "print(f'p = {p:.3f}')"
   ]
  },
  {
   "cell_type": "code",
   "execution_count": null,
   "metadata": {},
   "outputs": [],
   "source": [
    "#p is 0 after rounding, we reject the null hypothesis"
   ]
  },
  {
   "cell_type": "markdown",
   "metadata": {},
   "source": [
    "##### Do manual cars get better gas mileage than automatic cars?"
   ]
  },
  {
   "cell_type": "code",
   "execution_count": null,
   "metadata": {},
   "outputs": [],
   "source": [
    "# Null Hypothesis = there is no difference between mpg of manual cars to automatics cars"
   ]
  },
  {
   "cell_type": "code",
   "execution_count": null,
   "metadata": {},
   "outputs": [],
   "source": [
    "# Alternateive Hypothesis = manual cars get better gas mileage than automatic cars"
   ]
  },
  {
   "cell_type": "code",
   "execution_count": 119,
   "metadata": {},
   "outputs": [
    {
     "name": "stdout",
     "output_type": "stream",
     "text": [
      "t = -4.59344\n",
      "p = 1.99999\n"
     ]
    }
   ],
   "source": [
    "auto = mpg[mpg.trans.str.count('auto') > 0].avg_mpg\n",
    "trans = mpg[mpg.trans.str.count('man') > 0].avg_mpg\n",
    "\n",
    "xbar1 = auto.mean()\n",
    "xbar2 = trans.mean()\n",
    "\n",
    "n1 = auto.shape[0]\n",
    "n2 = trans.shape[0]\n",
    "\n",
    "s1 = auto.std()\n",
    "s2 = trans.std()\n",
    "\n",
    "degf = n1 + n2 - 2\n",
    "\n",
    "s_p = sqrt(((n1 - 1) * s1**2 + (n2 - 1) * s2**2) / (n1 + n2 - 2))\n",
    "s_p\n",
    "\n",
    "standard_error = se = sqrt(s1**2 / n1 + s2**2 / n2)\n",
    "\n",
    "t = (xbar1 - xbar2) / (s_p * sqrt(1/n1 + 1/n2))\n",
    "\n",
    "p = stats.t(degf).sf(t) * 2\n",
    "\n",
    "print(f't = {t:.5f}')\n",
    "print(f'p = {p:.5f}')"
   ]
  },
  {
   "cell_type": "markdown",
   "metadata": {},
   "source": [
    "# Correlation Exercises\n",
    "Use the telco_churn data. "
   ]
  },
  {
   "cell_type": "code",
   "execution_count": 172,
   "metadata": {},
   "outputs": [
    {
     "data": {
      "text/html": [
       "<div>\n",
       "<style scoped>\n",
       "    .dataframe tbody tr th:only-of-type {\n",
       "        vertical-align: middle;\n",
       "    }\n",
       "\n",
       "    .dataframe tbody tr th {\n",
       "        vertical-align: top;\n",
       "    }\n",
       "\n",
       "    .dataframe thead th {\n",
       "        text-align: right;\n",
       "    }\n",
       "</style>\n",
       "<table border=\"1\" class=\"dataframe\">\n",
       "  <thead>\n",
       "    <tr style=\"text-align: right;\">\n",
       "      <th></th>\n",
       "      <th>customerID</th>\n",
       "      <th>gender</th>\n",
       "      <th>SeniorCitizen</th>\n",
       "      <th>Partner</th>\n",
       "      <th>Dependents</th>\n",
       "      <th>tenure</th>\n",
       "      <th>PhoneService</th>\n",
       "      <th>MultipleLines</th>\n",
       "      <th>InternetService</th>\n",
       "      <th>OnlineSecurity</th>\n",
       "      <th>...</th>\n",
       "      <th>DeviceProtection</th>\n",
       "      <th>TechSupport</th>\n",
       "      <th>StreamingTV</th>\n",
       "      <th>StreamingMovies</th>\n",
       "      <th>Contract</th>\n",
       "      <th>PaperlessBilling</th>\n",
       "      <th>PaymentMethod</th>\n",
       "      <th>MonthlyCharges</th>\n",
       "      <th>TotalCharges</th>\n",
       "      <th>Churn</th>\n",
       "    </tr>\n",
       "  </thead>\n",
       "  <tbody>\n",
       "    <tr>\n",
       "      <th>0</th>\n",
       "      <td>7590-VHVEG</td>\n",
       "      <td>Female</td>\n",
       "      <td>0</td>\n",
       "      <td>Yes</td>\n",
       "      <td>No</td>\n",
       "      <td>1</td>\n",
       "      <td>No</td>\n",
       "      <td>No phone service</td>\n",
       "      <td>DSL</td>\n",
       "      <td>No</td>\n",
       "      <td>...</td>\n",
       "      <td>No</td>\n",
       "      <td>No</td>\n",
       "      <td>No</td>\n",
       "      <td>No</td>\n",
       "      <td>Month-to-month</td>\n",
       "      <td>Yes</td>\n",
       "      <td>Electronic check</td>\n",
       "      <td>29.85</td>\n",
       "      <td>29.85</td>\n",
       "      <td>No</td>\n",
       "    </tr>\n",
       "    <tr>\n",
       "      <th>1</th>\n",
       "      <td>5575-GNVDE</td>\n",
       "      <td>Male</td>\n",
       "      <td>0</td>\n",
       "      <td>No</td>\n",
       "      <td>No</td>\n",
       "      <td>34</td>\n",
       "      <td>Yes</td>\n",
       "      <td>No</td>\n",
       "      <td>DSL</td>\n",
       "      <td>Yes</td>\n",
       "      <td>...</td>\n",
       "      <td>Yes</td>\n",
       "      <td>No</td>\n",
       "      <td>No</td>\n",
       "      <td>No</td>\n",
       "      <td>One year</td>\n",
       "      <td>No</td>\n",
       "      <td>Mailed check</td>\n",
       "      <td>56.95</td>\n",
       "      <td>1889.50</td>\n",
       "      <td>No</td>\n",
       "    </tr>\n",
       "    <tr>\n",
       "      <th>2</th>\n",
       "      <td>3668-QPYBK</td>\n",
       "      <td>Male</td>\n",
       "      <td>0</td>\n",
       "      <td>No</td>\n",
       "      <td>No</td>\n",
       "      <td>2</td>\n",
       "      <td>Yes</td>\n",
       "      <td>No</td>\n",
       "      <td>DSL</td>\n",
       "      <td>Yes</td>\n",
       "      <td>...</td>\n",
       "      <td>No</td>\n",
       "      <td>No</td>\n",
       "      <td>No</td>\n",
       "      <td>No</td>\n",
       "      <td>Month-to-month</td>\n",
       "      <td>Yes</td>\n",
       "      <td>Mailed check</td>\n",
       "      <td>53.85</td>\n",
       "      <td>108.15</td>\n",
       "      <td>Yes</td>\n",
       "    </tr>\n",
       "    <tr>\n",
       "      <th>3</th>\n",
       "      <td>7795-CFOCW</td>\n",
       "      <td>Male</td>\n",
       "      <td>0</td>\n",
       "      <td>No</td>\n",
       "      <td>No</td>\n",
       "      <td>45</td>\n",
       "      <td>No</td>\n",
       "      <td>No phone service</td>\n",
       "      <td>DSL</td>\n",
       "      <td>Yes</td>\n",
       "      <td>...</td>\n",
       "      <td>Yes</td>\n",
       "      <td>Yes</td>\n",
       "      <td>No</td>\n",
       "      <td>No</td>\n",
       "      <td>One year</td>\n",
       "      <td>No</td>\n",
       "      <td>Bank transfer (automatic)</td>\n",
       "      <td>42.30</td>\n",
       "      <td>1840.75</td>\n",
       "      <td>No</td>\n",
       "    </tr>\n",
       "    <tr>\n",
       "      <th>4</th>\n",
       "      <td>9237-HQITU</td>\n",
       "      <td>Female</td>\n",
       "      <td>0</td>\n",
       "      <td>No</td>\n",
       "      <td>No</td>\n",
       "      <td>2</td>\n",
       "      <td>Yes</td>\n",
       "      <td>No</td>\n",
       "      <td>Fiber optic</td>\n",
       "      <td>No</td>\n",
       "      <td>...</td>\n",
       "      <td>No</td>\n",
       "      <td>No</td>\n",
       "      <td>No</td>\n",
       "      <td>No</td>\n",
       "      <td>Month-to-month</td>\n",
       "      <td>Yes</td>\n",
       "      <td>Electronic check</td>\n",
       "      <td>70.70</td>\n",
       "      <td>151.65</td>\n",
       "      <td>Yes</td>\n",
       "    </tr>\n",
       "  </tbody>\n",
       "</table>\n",
       "<p>5 rows × 21 columns</p>\n",
       "</div>"
      ],
      "text/plain": [
       "   customerID  gender  SeniorCitizen Partner Dependents  tenure PhoneService  \\\n",
       "0  7590-VHVEG  Female              0     Yes         No       1           No   \n",
       "1  5575-GNVDE    Male              0      No         No      34          Yes   \n",
       "2  3668-QPYBK    Male              0      No         No       2          Yes   \n",
       "3  7795-CFOCW    Male              0      No         No      45           No   \n",
       "4  9237-HQITU  Female              0      No         No       2          Yes   \n",
       "\n",
       "      MultipleLines InternetService OnlineSecurity  ... DeviceProtection  \\\n",
       "0  No phone service             DSL             No  ...               No   \n",
       "1                No             DSL            Yes  ...              Yes   \n",
       "2                No             DSL            Yes  ...               No   \n",
       "3  No phone service             DSL            Yes  ...              Yes   \n",
       "4                No     Fiber optic             No  ...               No   \n",
       "\n",
       "  TechSupport StreamingTV StreamingMovies        Contract PaperlessBilling  \\\n",
       "0          No          No              No  Month-to-month              Yes   \n",
       "1          No          No              No        One year               No   \n",
       "2          No          No              No  Month-to-month              Yes   \n",
       "3         Yes          No              No        One year               No   \n",
       "4          No          No              No  Month-to-month              Yes   \n",
       "\n",
       "               PaymentMethod MonthlyCharges  TotalCharges  Churn  \n",
       "0           Electronic check          29.85         29.85     No  \n",
       "1               Mailed check          56.95       1889.50     No  \n",
       "2               Mailed check          53.85        108.15    Yes  \n",
       "3  Bank transfer (automatic)          42.30       1840.75     No  \n",
       "4           Electronic check          70.70        151.65    Yes  \n",
       "\n",
       "[5 rows x 21 columns]"
      ]
     },
     "execution_count": 172,
     "metadata": {},
     "output_type": "execute_result"
    }
   ],
   "source": [
    "df = pd.read_csv ('Cust_Churn_Telco.csv')\n",
    "df.head()"
   ]
  },
  {
   "cell_type": "markdown",
   "metadata": {},
   "source": [
    "- Does tenure correlate with monthly charges? Total charges?"
   ]
  },
  {
   "cell_type": "code",
   "execution_count": 155,
   "metadata": {},
   "outputs": [
    {
     "name": "stdout",
     "output_type": "stream",
     "text": [
      "Our alpha value is: 0.05\n",
      "The correlation coefficient (r) = 0.2479\n",
      "The t-statistic is: 21.4717\n",
      "The p-value is: 4.0940449914965545e-99\n",
      "\n",
      "Is p less than alpha?: True\n",
      "Since p is less than alpha,\n",
      "            we REJECT our null hypothesis that\n",
      "            there is no linear correlation between the\n",
      "            length of tenure and monthly charges.\n"
     ]
    }
   ],
   "source": [
    "# tenure vs. MonthlyCharges\n",
    "# null hypothesis: Tenure does not affect the monthly charge\n",
    "# alternate hypothesis: Tenure causes an increase or decrease in monthly charges\n",
    "\n",
    "n = df.shape[0]         # number of observations\n",
    "degf = n - 2            # degrees of freedom: the # of values in the final calculation of a statistic that are free to vary.\n",
    "conf_interval = .95     # desired confidence interval\n",
    "α = 1 - conf_interval\n",
    "\n",
    "print(\"Our alpha value is:\",round(α,2))\n",
    "\n",
    "x = df.tenure\n",
    "y = df.MonthlyCharges\n",
    "\n",
    "def stdev(x):\n",
    "    variance = ((x - x.mean()) ** 2).sum() / n\n",
    "    return sqrt(variance)\n",
    "\n",
    "r_xy = (((x - x.mean()) * (y - y.mean())).sum() / n) / (stdev(x) * stdev(y))\n",
    "print(\"The correlation coefficient (r) =\",round(r_xy,4))\n",
    "\n",
    "t = (r_xy * sqrt(n - 2)) / sqrt(1 - r_xy**2)\n",
    "print(\"The t-statistic is:\",round(t,4))\n",
    "\n",
    "p = stats.t.sf(t, df=degf) * 2 # *2 for a two-tailed test\n",
    "print(\"The p-value is:\",p)\n",
    "\n",
    "print(\"\\nIs p less than alpha?:\",p < α)\n",
    "print(\"\"\"Since p is less than alpha,\n",
    "            we REJECT our null hypothesis that\n",
    "            there is no linear correlation between the\n",
    "            length of tenure and monthly charges.\"\"\")"
   ]
  },
  {
   "cell_type": "code",
   "execution_count": 173,
   "metadata": {},
   "outputs": [
    {
     "data": {
      "text/plain": [
       "(0.24789985628615005, 4.0940449915016345e-99)"
      ]
     },
     "execution_count": 173,
     "metadata": {},
     "output_type": "execute_result"
    }
   ],
   "source": [
    "#the easy way\n",
    "corr, p = stats.pearsonr(df.tenure, df.MonthlyCharges)\n",
    "corr, p"
   ]
  },
  {
   "cell_type": "code",
   "execution_count": 157,
   "metadata": {},
   "outputs": [
    {
     "name": "stdout",
     "output_type": "stream",
     "text": [
      "Our alpha value is: 0.05\n",
      "The correlation coefficient (r) = 0.8248\n",
      "The t-statistic is: 122.3829\n",
      "The p-value is: 0.0\n",
      "\n",
      "Is p less than alpha?: True\n",
      "Since p is less than alpha,\n",
      "            we REJECT our null hypothesis that\n",
      "            there is no linear correlation between the\n",
      "            length of tenure and total charges.\n"
     ]
    }
   ],
   "source": [
    "# tenure vs. TotalCharges\n",
    "# null hypothesis: Tenure does not affect the total charge\n",
    "# alternate hypothesis: Tenure causes an increase or decrease in total charges\n",
    "\n",
    "n = df.shape[0]         # number of observations\n",
    "degf = n - 2            # degrees of freedom: the # of values in the final calculation of a statistic that are free to vary.\n",
    "conf_interval = .95     # desired confidence interval\n",
    "α = 1 - conf_interval\n",
    "\n",
    "print(\"Our alpha value is:\",round(α,2))\n",
    "\n",
    "x = df.tenure\n",
    "y = df.TotalCharges\n",
    "\n",
    "def stdev(x):\n",
    "    variance = ((x - x.mean()) ** 2).sum() / n\n",
    "    return sqrt(variance)\n",
    "\n",
    "r_xy = (((x - x.mean()) * (y - y.mean())).sum() / n) / (stdev(x) * stdev(y))\n",
    "print(\"The correlation coefficient (r) =\",round(r_xy,4))\n",
    "\n",
    "t = (r_xy * sqrt(n - 2)) / sqrt(1 - r_xy**2)\n",
    "print(\"The t-statistic is:\",round(t,4))\n",
    "\n",
    "p = stats.t.sf(t, df=degf) * 2 # *2 for a two-tailed test\n",
    "print(\"The p-value is:\",p)\n",
    "\n",
    "print(\"\\nIs p less than alpha?:\",p < α)\n",
    "print(\"\"\"Since p is less than alpha,\n",
    "            we REJECT our null hypothesis that\n",
    "            there is no linear correlation between the\n",
    "            length of tenure and total charges.\"\"\")"
   ]
  },
  {
   "cell_type": "code",
   "execution_count": 184,
   "metadata": {},
   "outputs": [],
   "source": [
    "#must convert Nans to Zero\n",
    "df['TotalCharges'] = df['TotalCharges'].fillna(0)"
   ]
  },
  {
   "cell_type": "code",
   "execution_count": 185,
   "metadata": {},
   "outputs": [
    {
     "data": {
      "text/plain": [
       "(0.826178397950242, 0.0)"
      ]
     },
     "execution_count": 185,
     "metadata": {},
     "output_type": "execute_result"
    }
   ],
   "source": [
    "#the easy way\n",
    "corr, p = stats.pearsonr(df.tenure, df.TotalCharges)\n",
    "corr, p"
   ]
  },
  {
   "cell_type": "markdown",
   "metadata": {},
   "source": [
    "- What happens if you control for phone and internet service?"
   ]
  },
  {
   "cell_type": "code",
   "execution_count": 188,
   "metadata": {},
   "outputs": [
    {
     "name": "stdout",
     "output_type": "stream",
     "text": [
      "Our alpha value is: 0.05\n",
      "The correlation coefficient (r) = 0.4431\n",
      "The t-statistic is: 34.363\n",
      "The p-value is: 1.0146095231017521e-231\n",
      "\n",
      "Is p less than alpha?: True\n",
      "Since p is less than alpha,\n",
      "            we REJECT our null hypothesis that\n",
      "            there is no linear correlation between the\n",
      "            length of tenure and monthly charges\n",
      "            for phone + internet service customers.\n"
     ]
    }
   ],
   "source": [
    "df_pi = df[(df.InternetService != 'No')&(df.PhoneService == 'Yes')]\n",
    "# tenure vs. MonthlyCharges for phone and internet service customers only\n",
    "# null hypothesis: Tenure does not affect the monthly charge\n",
    "# alternate hypothesis: Tenure causes an increase or decrease in monthly charges\n",
    "\n",
    "n = df_pi.shape[0]         # number of observations\n",
    "degf = n - 2            # degrees of freedom: the # of values in the final calculation of a statistic that are free to vary.\n",
    "conf_interval = .95     # desired confidence interval\n",
    "α = 1 - conf_interval\n",
    "\n",
    "print(\"Our alpha value is:\",round(α,2))\n",
    "\n",
    "x = df_pi.tenure\n",
    "y = df_pi.MonthlyCharges\n",
    "\n",
    "def stdev(x):\n",
    "    variance = ((x - x.mean()) ** 2).sum() / n\n",
    "    return sqrt(variance)\n",
    "\n",
    "r_xy = (((x - x.mean()) * (y - y.mean())).sum() / n) / (stdev(x) * stdev(y))\n",
    "print(\"The correlation coefficient (r) =\",round(r_xy,4))\n",
    "\n",
    "t = (r_xy * sqrt(n - 2)) / sqrt(1 - r_xy**2)\n",
    "print(\"The t-statistic is:\",round(t,4))\n",
    "\n",
    "p = stats.t.sf(t, df=degf) * 2 # *2 for a two-tailed test\n",
    "print(\"The p-value is:\",p)\n",
    "\n",
    "print(\"\\nIs p less than alpha?:\",p < α)\n",
    "print(\"\"\"Since p is less than alpha,\n",
    "            we REJECT our null hypothesis that\n",
    "            there is no linear correlation between the\n",
    "            length of tenure and monthly charges\n",
    "            for phone + internet service customers.\"\"\")"
   ]
  },
  {
   "cell_type": "code",
   "execution_count": 186,
   "metadata": {},
   "outputs": [],
   "source": [
    "#must convert Nans to Zero\n",
    "df_pi['TotalCharges'] = df_pi['TotalCharges'].fillna(0)"
   ]
  },
  {
   "cell_type": "code",
   "execution_count": 187,
   "metadata": {},
   "outputs": [
    {
     "data": {
      "text/plain": [
       "(0.9579592038044629, 0.0)"
      ]
     },
     "execution_count": 187,
     "metadata": {},
     "output_type": "execute_result"
    }
   ],
   "source": [
    "#the easy way\n",
    "corr, p = stats.pearsonr(df_pi.tenure, df_pi.TotalCharges)\n",
    "corr, p"
   ]
  },
  {
   "cell_type": "markdown",
   "metadata": {},
   "source": [
    "### Use the employees database."
   ]
  },
  {
   "cell_type": "code",
   "execution_count": 189,
   "metadata": {},
   "outputs": [],
   "source": [
    "#defines function to create a sql url using personal credentials\n",
    "def get_db_url(db_name):\n",
    "    \n",
    "    #importing variables used to connect to sql database\n",
    "    from env import host, username, password\n",
    "    \n",
    "    #creates the url and the function returns it\n",
    "    url = f'mysql+pymysql://{username}:{password}@{host}/{db_name}'\n",
    "    return (url)\n",
    "\n",
    "employees = pd.read_sql('SELECT * FROM employees',get_db_url('employees'))\n",
    "salaries = pd.read_sql('SELECT * FROM salaries',get_db_url('employees'))"
   ]
  },
  {
   "cell_type": "code",
   "execution_count": 196,
   "metadata": {},
   "outputs": [
    {
     "data": {
      "text/html": [
       "<div>\n",
       "<style scoped>\n",
       "    .dataframe tbody tr th:only-of-type {\n",
       "        vertical-align: middle;\n",
       "    }\n",
       "\n",
       "    .dataframe tbody tr th {\n",
       "        vertical-align: top;\n",
       "    }\n",
       "\n",
       "    .dataframe thead th {\n",
       "        text-align: right;\n",
       "    }\n",
       "</style>\n",
       "<table border=\"1\" class=\"dataframe\">\n",
       "  <thead>\n",
       "    <tr style=\"text-align: right;\">\n",
       "      <th></th>\n",
       "      <th>emp_no</th>\n",
       "      <th>salary</th>\n",
       "      <th>from_date</th>\n",
       "      <th>to_date</th>\n",
       "    </tr>\n",
       "  </thead>\n",
       "  <tbody>\n",
       "    <tr>\n",
       "      <th>16</th>\n",
       "      <td>10001</td>\n",
       "      <td>88958</td>\n",
       "      <td>2002-06-22</td>\n",
       "      <td>9999-01-01</td>\n",
       "    </tr>\n",
       "    <tr>\n",
       "      <th>22</th>\n",
       "      <td>10002</td>\n",
       "      <td>72527</td>\n",
       "      <td>2001-08-02</td>\n",
       "      <td>9999-01-01</td>\n",
       "    </tr>\n",
       "    <tr>\n",
       "      <th>29</th>\n",
       "      <td>10003</td>\n",
       "      <td>43311</td>\n",
       "      <td>2001-12-01</td>\n",
       "      <td>9999-01-01</td>\n",
       "    </tr>\n",
       "    <tr>\n",
       "      <th>45</th>\n",
       "      <td>10004</td>\n",
       "      <td>74057</td>\n",
       "      <td>2001-11-27</td>\n",
       "      <td>9999-01-01</td>\n",
       "    </tr>\n",
       "    <tr>\n",
       "      <th>58</th>\n",
       "      <td>10005</td>\n",
       "      <td>94692</td>\n",
       "      <td>2001-09-09</td>\n",
       "      <td>9999-01-01</td>\n",
       "    </tr>\n",
       "  </tbody>\n",
       "</table>\n",
       "</div>"
      ],
      "text/plain": [
       "    emp_no  salary   from_date     to_date\n",
       "16   10001   88958  2002-06-22  9999-01-01\n",
       "22   10002   72527  2001-08-02  9999-01-01\n",
       "29   10003   43311  2001-12-01  9999-01-01\n",
       "45   10004   74057  2001-11-27  9999-01-01\n",
       "58   10005   94692  2001-09-09  9999-01-01"
      ]
     },
     "execution_count": 196,
     "metadata": {},
     "output_type": "execute_result"
    }
   ],
   "source": [
    "from datetime import date\n",
    "cur_salaries = salaries[salaries.to_date > date.today()]"
   ]
  },
  {
   "cell_type": "code",
   "execution_count": 215,
   "metadata": {},
   "outputs": [],
   "source": [
    "cur_employees = pd.read_sql('''SELECT e.emp_no, e.hire_date, t.to_date, s.salary\n",
    "                        FROM employees as e\n",
    "                        JOIN titles as t ON e.emp_no = t.emp_no AND t.to_date > CURDATE()\n",
    "                        JOIN salaries as s ON e.emp_no = s.emp_no AND s.to_date > CURDATE();\n",
    "                                ''',get_db_url('employees'))"
   ]
  },
  {
   "cell_type": "markdown",
   "metadata": {},
   "source": [
    "- Is there a relationship between how long an employee has been with the company and their salary?"
   ]
  },
  {
   "cell_type": "code",
   "execution_count": 217,
   "metadata": {},
   "outputs": [
    {
     "data": {
      "text/html": [
       "<div>\n",
       "<style scoped>\n",
       "    .dataframe tbody tr th:only-of-type {\n",
       "        vertical-align: middle;\n",
       "    }\n",
       "\n",
       "    .dataframe tbody tr th {\n",
       "        vertical-align: top;\n",
       "    }\n",
       "\n",
       "    .dataframe thead th {\n",
       "        text-align: right;\n",
       "    }\n",
       "</style>\n",
       "<table border=\"1\" class=\"dataframe\">\n",
       "  <thead>\n",
       "    <tr style=\"text-align: right;\">\n",
       "      <th></th>\n",
       "      <th>emp_no</th>\n",
       "      <th>hire_date</th>\n",
       "      <th>to_date</th>\n",
       "      <th>salary</th>\n",
       "      <th>loyalty</th>\n",
       "    </tr>\n",
       "  </thead>\n",
       "  <tbody>\n",
       "    <tr>\n",
       "      <th>0</th>\n",
       "      <td>10001</td>\n",
       "      <td>1986-06-26</td>\n",
       "      <td>9999-01-01</td>\n",
       "      <td>88958</td>\n",
       "      <td>34.22</td>\n",
       "    </tr>\n",
       "    <tr>\n",
       "      <th>1</th>\n",
       "      <td>10002</td>\n",
       "      <td>1985-11-21</td>\n",
       "      <td>9999-01-01</td>\n",
       "      <td>72527</td>\n",
       "      <td>34.81</td>\n",
       "    </tr>\n",
       "    <tr>\n",
       "      <th>2</th>\n",
       "      <td>10003</td>\n",
       "      <td>1986-08-28</td>\n",
       "      <td>9999-01-01</td>\n",
       "      <td>43311</td>\n",
       "      <td>34.04</td>\n",
       "    </tr>\n",
       "    <tr>\n",
       "      <th>3</th>\n",
       "      <td>10004</td>\n",
       "      <td>1986-12-01</td>\n",
       "      <td>9999-01-01</td>\n",
       "      <td>74057</td>\n",
       "      <td>33.78</td>\n",
       "    </tr>\n",
       "    <tr>\n",
       "      <th>4</th>\n",
       "      <td>10005</td>\n",
       "      <td>1989-09-12</td>\n",
       "      <td>9999-01-01</td>\n",
       "      <td>94692</td>\n",
       "      <td>31.00</td>\n",
       "    </tr>\n",
       "  </tbody>\n",
       "</table>\n",
       "</div>"
      ],
      "text/plain": [
       "   emp_no   hire_date     to_date  salary  loyalty\n",
       "0   10001  1986-06-26  9999-01-01   88958    34.22\n",
       "1   10002  1985-11-21  9999-01-01   72527    34.81\n",
       "2   10003  1986-08-28  9999-01-01   43311    34.04\n",
       "3   10004  1986-12-01  9999-01-01   74057    33.78\n",
       "4   10005  1989-09-12  9999-01-01   94692    31.00"
      ]
     },
     "execution_count": 217,
     "metadata": {},
     "output_type": "execute_result"
    }
   ],
   "source": [
    "def calc_loyalty(df):    \n",
    "    from datetime import date\n",
    "    f_date = df.hire_date\n",
    "    l_date = date.today()\n",
    "    delta = l_date - f_date\n",
    "    return round((delta.days/365),2)\n",
    "\n",
    "cur_employees['loyalty'] = cur_employees.apply(calc_loyalty, axis=1)\n",
    "cur_employees.head()"
   ]
  },
  {
   "cell_type": "code",
   "execution_count": 223,
   "metadata": {},
   "outputs": [
    {
     "name": "stdout",
     "output_type": "stream",
     "text": [
      "corr: 0.3064632442655585 \n",
      "p-value: 0.0\n",
      "P is low, we reject the null hypothesis!\n",
      "There is a correlation between salary and loyalty with the company.\n"
     ]
    }
   ],
   "source": [
    "#the easy way\n",
    "# null hypothesis: there is no correlation between an employees salary and how many years\n",
    "# the employees has worked there for\n",
    "corr, p = stats.pearsonr(cur_employees.loyalty, cur_employees.salary)\n",
    "print(\"corr:\",corr, \"\\np-value:\",p)\n",
    "print(\"P is low, we reject the null hypothesis!\")\n",
    "print(\"There is a correlation between salary and loyalty with the company.\")"
   ]
  },
  {
   "cell_type": "markdown",
   "metadata": {},
   "source": [
    "- Is there a relationship between how long an employee has been with the company and the number of titles they have had?"
   ]
  },
  {
   "cell_type": "code",
   "execution_count": 233,
   "metadata": {},
   "outputs": [],
   "source": [
    "title_counts = pd.read_sql('''SELECT employees.emp_no, COUNT(title) as titles\n",
    "                            FROM employees\n",
    "                            JOIN titles as t ON t.emp_no = employees.emp_no\n",
    "                            GROUP BY employees.emp_no;\n",
    "                            ''',get_db_url('employees'))"
   ]
  },
  {
   "cell_type": "code",
   "execution_count": 234,
   "metadata": {},
   "outputs": [
    {
     "data": {
      "text/html": [
       "<div>\n",
       "<style scoped>\n",
       "    .dataframe tbody tr th:only-of-type {\n",
       "        vertical-align: middle;\n",
       "    }\n",
       "\n",
       "    .dataframe tbody tr th {\n",
       "        vertical-align: top;\n",
       "    }\n",
       "\n",
       "    .dataframe thead th {\n",
       "        text-align: right;\n",
       "    }\n",
       "</style>\n",
       "<table border=\"1\" class=\"dataframe\">\n",
       "  <thead>\n",
       "    <tr style=\"text-align: right;\">\n",
       "      <th></th>\n",
       "      <th>emp_no</th>\n",
       "      <th>hire_date</th>\n",
       "      <th>to_date</th>\n",
       "      <th>salary</th>\n",
       "      <th>loyalty</th>\n",
       "      <th>titles</th>\n",
       "    </tr>\n",
       "  </thead>\n",
       "  <tbody>\n",
       "    <tr>\n",
       "      <th>0</th>\n",
       "      <td>10001</td>\n",
       "      <td>1986-06-26</td>\n",
       "      <td>9999-01-01</td>\n",
       "      <td>88958</td>\n",
       "      <td>34.22</td>\n",
       "      <td>1</td>\n",
       "    </tr>\n",
       "    <tr>\n",
       "      <th>1</th>\n",
       "      <td>10002</td>\n",
       "      <td>1985-11-21</td>\n",
       "      <td>9999-01-01</td>\n",
       "      <td>72527</td>\n",
       "      <td>34.81</td>\n",
       "      <td>1</td>\n",
       "    </tr>\n",
       "    <tr>\n",
       "      <th>2</th>\n",
       "      <td>10003</td>\n",
       "      <td>1986-08-28</td>\n",
       "      <td>9999-01-01</td>\n",
       "      <td>43311</td>\n",
       "      <td>34.04</td>\n",
       "      <td>1</td>\n",
       "    </tr>\n",
       "    <tr>\n",
       "      <th>3</th>\n",
       "      <td>10004</td>\n",
       "      <td>1986-12-01</td>\n",
       "      <td>9999-01-01</td>\n",
       "      <td>74057</td>\n",
       "      <td>33.78</td>\n",
       "      <td>2</td>\n",
       "    </tr>\n",
       "    <tr>\n",
       "      <th>4</th>\n",
       "      <td>10005</td>\n",
       "      <td>1989-09-12</td>\n",
       "      <td>9999-01-01</td>\n",
       "      <td>94692</td>\n",
       "      <td>31.00</td>\n",
       "      <td>2</td>\n",
       "    </tr>\n",
       "  </tbody>\n",
       "</table>\n",
       "</div>"
      ],
      "text/plain": [
       "   emp_no   hire_date     to_date  salary  loyalty  titles\n",
       "0   10001  1986-06-26  9999-01-01   88958    34.22       1\n",
       "1   10002  1985-11-21  9999-01-01   72527    34.81       1\n",
       "2   10003  1986-08-28  9999-01-01   43311    34.04       1\n",
       "3   10004  1986-12-01  9999-01-01   74057    33.78       2\n",
       "4   10005  1989-09-12  9999-01-01   94692    31.00       2"
      ]
     },
     "execution_count": 234,
     "metadata": {},
     "output_type": "execute_result"
    }
   ],
   "source": [
    "emp_title_count = cur_employees.merge(title_counts, left_on='emp_no', right_on='emp_no')\n",
    "emp_title_count.head()"
   ]
  },
  {
   "cell_type": "code",
   "execution_count": 237,
   "metadata": {},
   "outputs": [
    {
     "name": "stdout",
     "output_type": "stream",
     "text": [
      "corr: 0.28712735047793164 \n",
      "p-value: 0.0\n",
      "P is low, we reject the null hypothesis!\n",
      "There is a correlation between title changes and loyalty with the company.\n"
     ]
    }
   ],
   "source": [
    "corr, p = stats.pearsonr(emp_title_count.titles, emp_title_count.loyalty)\n",
    "print(\"corr:\",corr, \"\\np-value:\",p)\n",
    "print(\"P is low, we reject the null hypothesis!\")\n",
    "print(\"There is a correlation between title changes and loyalty with the company.\")"
   ]
  },
  {
   "cell_type": "markdown",
   "metadata": {},
   "source": [
    "- Use the sleepstudy data. Is there a relationship between days and reaction time?"
   ]
  },
  {
   "cell_type": "code",
   "execution_count": 239,
   "metadata": {},
   "outputs": [
    {
     "data": {
      "text/html": [
       "<div>\n",
       "<style scoped>\n",
       "    .dataframe tbody tr th:only-of-type {\n",
       "        vertical-align: middle;\n",
       "    }\n",
       "\n",
       "    .dataframe tbody tr th {\n",
       "        vertical-align: top;\n",
       "    }\n",
       "\n",
       "    .dataframe thead th {\n",
       "        text-align: right;\n",
       "    }\n",
       "</style>\n",
       "<table border=\"1\" class=\"dataframe\">\n",
       "  <thead>\n",
       "    <tr style=\"text-align: right;\">\n",
       "      <th></th>\n",
       "      <th>Reaction</th>\n",
       "      <th>Days</th>\n",
       "      <th>Subject</th>\n",
       "    </tr>\n",
       "  </thead>\n",
       "  <tbody>\n",
       "    <tr>\n",
       "      <th>1</th>\n",
       "      <td>249.5600</td>\n",
       "      <td>0</td>\n",
       "      <td>308</td>\n",
       "    </tr>\n",
       "    <tr>\n",
       "      <th>2</th>\n",
       "      <td>258.7047</td>\n",
       "      <td>1</td>\n",
       "      <td>308</td>\n",
       "    </tr>\n",
       "    <tr>\n",
       "      <th>3</th>\n",
       "      <td>250.8006</td>\n",
       "      <td>2</td>\n",
       "      <td>308</td>\n",
       "    </tr>\n",
       "    <tr>\n",
       "      <th>4</th>\n",
       "      <td>321.4398</td>\n",
       "      <td>3</td>\n",
       "      <td>308</td>\n",
       "    </tr>\n",
       "    <tr>\n",
       "      <th>5</th>\n",
       "      <td>356.8519</td>\n",
       "      <td>4</td>\n",
       "      <td>308</td>\n",
       "    </tr>\n",
       "  </tbody>\n",
       "</table>\n",
       "</div>"
      ],
      "text/plain": [
       "   Reaction  Days  Subject\n",
       "1  249.5600     0      308\n",
       "2  258.7047     1      308\n",
       "3  250.8006     2      308\n",
       "4  321.4398     3      308\n",
       "5  356.8519     4      308"
      ]
     },
     "execution_count": 239,
     "metadata": {},
     "output_type": "execute_result"
    }
   ],
   "source": [
    "from pydataset import data\n",
    "sleep_df = data('sleepstudy')\n",
    "sleep_df.head()"
   ]
  },
  {
   "cell_type": "code",
   "execution_count": 242,
   "metadata": {},
   "outputs": [
    {
     "name": "stdout",
     "output_type": "stream",
     "text": [
      "corr: 0.5352302262650253 \n",
      "p-value: 9.894096322214812e-15\n",
      "P is low, we reject the null hypothesis!\n",
      "There is a correlation between days and reaction time.\n"
     ]
    }
   ],
   "source": [
    "corr, p = stats.pearsonr(sleep_df.Days, sleep_df.Reaction)\n",
    "print(\"corr:\",corr, \"\\np-value:\",p)\n",
    "print(\"P is low, we reject the null hypothesis!\")\n",
    "print(\"There is a correlation between days and reaction time.\")"
   ]
  },
  {
   "cell_type": "markdown",
   "metadata": {},
   "source": [
    "# Chi Squared Exercises"
   ]
  },
  {
   "cell_type": "markdown",
   "metadata": {},
   "source": [
    "Use the following contingency table to help answer the question of whether using a macbook and being a codeup student are independent of each other.\n",
    "\n",
    "                Codeup Student\tNot Codeup Student\n",
    "- Uses a Macbook----------49------------20\n",
    "- Doesn't Use A Macbook--1-------------30"
   ]
  },
  {
   "cell_type": "code",
   "execution_count": 266,
   "metadata": {},
   "outputs": [],
   "source": [
    "index = ['Uses_Mac', 'Not_uses_Mac']\n",
    "columns = ['Codeup_student', 'Not_Codeup_Student']\n",
    "\n",
    "observed = pd.DataFrame([[49, 20], [1, 30]], index=index, columns=columns)"
   ]
  },
  {
   "cell_type": "code",
   "execution_count": 267,
   "metadata": {},
   "outputs": [
    {
     "name": "stdout",
     "output_type": "stream",
     "text": [
      "Observed\n",
      "\n",
      "[[49 20]\n",
      " [ 1 30]]\n",
      "---\n",
      "Expected\n",
      "\n",
      "[[34.5 34.5]\n",
      " [15.5 15.5]]\n",
      "---\n",
      "\n",
      "chi^2 = 36.6526\n",
      "p     = 0.0000\n"
     ]
    }
   ],
   "source": [
    "chi2, p, degf, expected = stats.chi2_contingency(observed)\n",
    "\n",
    "print('Observed\\n')\n",
    "print(observed.values)\n",
    "print('---\\nExpected\\n')\n",
    "print(expected)\n",
    "print('---\\n')\n",
    "print(f'chi^2 = {chi2:.4f}')\n",
    "print(f'p     = {p:.4f}')"
   ]
  },
  {
   "cell_type": "markdown",
   "metadata": {},
   "source": [
    "- Choose another 2 categorical variables from the mpg dataset and perform a $chi^2$ contingency table test with them. Be sure to state your null and alternative hypotheses."
   ]
  },
  {
   "cell_type": "code",
   "execution_count": 263,
   "metadata": {},
   "outputs": [
    {
     "data": {
      "text/html": [
       "<div>\n",
       "<style scoped>\n",
       "    .dataframe tbody tr th:only-of-type {\n",
       "        vertical-align: middle;\n",
       "    }\n",
       "\n",
       "    .dataframe tbody tr th {\n",
       "        vertical-align: top;\n",
       "    }\n",
       "\n",
       "    .dataframe thead th {\n",
       "        text-align: right;\n",
       "    }\n",
       "</style>\n",
       "<table border=\"1\" class=\"dataframe\">\n",
       "  <thead>\n",
       "    <tr style=\"text-align: right;\">\n",
       "      <th></th>\n",
       "      <th>manufacturer</th>\n",
       "      <th>model</th>\n",
       "      <th>displ</th>\n",
       "      <th>year</th>\n",
       "      <th>cyl</th>\n",
       "      <th>trans</th>\n",
       "      <th>drv</th>\n",
       "      <th>cty</th>\n",
       "      <th>hwy</th>\n",
       "      <th>fl</th>\n",
       "      <th>class</th>\n",
       "      <th>avg_mpg</th>\n",
       "    </tr>\n",
       "  </thead>\n",
       "  <tbody>\n",
       "    <tr>\n",
       "      <th>1</th>\n",
       "      <td>audi</td>\n",
       "      <td>a4</td>\n",
       "      <td>1.8</td>\n",
       "      <td>1999</td>\n",
       "      <td>4</td>\n",
       "      <td>auto(l5)</td>\n",
       "      <td>f</td>\n",
       "      <td>18</td>\n",
       "      <td>29</td>\n",
       "      <td>p</td>\n",
       "      <td>compact</td>\n",
       "      <td>23.5</td>\n",
       "    </tr>\n",
       "    <tr>\n",
       "      <th>2</th>\n",
       "      <td>audi</td>\n",
       "      <td>a4</td>\n",
       "      <td>1.8</td>\n",
       "      <td>1999</td>\n",
       "      <td>4</td>\n",
       "      <td>manual(m5)</td>\n",
       "      <td>f</td>\n",
       "      <td>21</td>\n",
       "      <td>29</td>\n",
       "      <td>p</td>\n",
       "      <td>compact</td>\n",
       "      <td>25.0</td>\n",
       "    </tr>\n",
       "    <tr>\n",
       "      <th>3</th>\n",
       "      <td>audi</td>\n",
       "      <td>a4</td>\n",
       "      <td>2.0</td>\n",
       "      <td>2008</td>\n",
       "      <td>4</td>\n",
       "      <td>manual(m6)</td>\n",
       "      <td>f</td>\n",
       "      <td>20</td>\n",
       "      <td>31</td>\n",
       "      <td>p</td>\n",
       "      <td>compact</td>\n",
       "      <td>25.5</td>\n",
       "    </tr>\n",
       "    <tr>\n",
       "      <th>4</th>\n",
       "      <td>audi</td>\n",
       "      <td>a4</td>\n",
       "      <td>2.0</td>\n",
       "      <td>2008</td>\n",
       "      <td>4</td>\n",
       "      <td>auto(av)</td>\n",
       "      <td>f</td>\n",
       "      <td>21</td>\n",
       "      <td>30</td>\n",
       "      <td>p</td>\n",
       "      <td>compact</td>\n",
       "      <td>25.5</td>\n",
       "    </tr>\n",
       "    <tr>\n",
       "      <th>5</th>\n",
       "      <td>audi</td>\n",
       "      <td>a4</td>\n",
       "      <td>2.8</td>\n",
       "      <td>1999</td>\n",
       "      <td>6</td>\n",
       "      <td>auto(l5)</td>\n",
       "      <td>f</td>\n",
       "      <td>16</td>\n",
       "      <td>26</td>\n",
       "      <td>p</td>\n",
       "      <td>compact</td>\n",
       "      <td>21.0</td>\n",
       "    </tr>\n",
       "  </tbody>\n",
       "</table>\n",
       "</div>"
      ],
      "text/plain": [
       "  manufacturer model  displ  year  cyl       trans drv  cty  hwy fl    class  \\\n",
       "1         audi    a4    1.8  1999    4    auto(l5)   f   18   29  p  compact   \n",
       "2         audi    a4    1.8  1999    4  manual(m5)   f   21   29  p  compact   \n",
       "3         audi    a4    2.0  2008    4  manual(m6)   f   20   31  p  compact   \n",
       "4         audi    a4    2.0  2008    4    auto(av)   f   21   30  p  compact   \n",
       "5         audi    a4    2.8  1999    6    auto(l5)   f   16   26  p  compact   \n",
       "\n",
       "   avg_mpg  \n",
       "1     23.5  \n",
       "2     25.0  \n",
       "3     25.5  \n",
       "4     25.5  \n",
       "5     21.0  "
      ]
     },
     "execution_count": 263,
     "metadata": {},
     "output_type": "execute_result"
    }
   ],
   "source": [
    "# manufacturer vs. avg_mpg\n"
   ]
  },
  {
   "cell_type": "markdown",
   "metadata": {},
   "source": [
    "#### Use the data from the employees database to answer these questions:"
   ]
  },
  {
   "cell_type": "markdown",
   "metadata": {},
   "source": [
    "- Is an employee's gender independent of whether an employee works in sales or marketing? (only look at current employees)"
   ]
  },
  {
   "cell_type": "code",
   "execution_count": null,
   "metadata": {},
   "outputs": [],
   "source": [
    "# Null hypothesis: both genders are equally likely to work in sales or marketing\n",
    "# Alternative hypothesis: one gender is more likely to work in the sales or marketing department"
   ]
  },
  {
   "cell_type": "code",
   "execution_count": 272,
   "metadata": {},
   "outputs": [],
   "source": [
    "cur_employees = pd.read_sql('''SELECT d.dept_name, e.gender, COUNT(e.emp_no) as total_employees\n",
    "                            FROM employees as e\n",
    "                            JOIN dept_emp as de ON de.emp_no = e.emp_no AND de.to_date > CURDATE()\n",
    "                            JOIN departments as d ON d.dept_no = de.dept_no\n",
    "                            WHERE dept_name = 'Sales' or dept_name = 'Marketing'\n",
    "                            GROUP BY d.dept_name, e.gender;\n",
    "                                ''',get_db_url('employees'))"
   ]
  },
  {
   "cell_type": "code",
   "execution_count": 273,
   "metadata": {},
   "outputs": [
    {
     "data": {
      "text/html": [
       "<div>\n",
       "<style scoped>\n",
       "    .dataframe tbody tr th:only-of-type {\n",
       "        vertical-align: middle;\n",
       "    }\n",
       "\n",
       "    .dataframe tbody tr th {\n",
       "        vertical-align: top;\n",
       "    }\n",
       "\n",
       "    .dataframe thead th {\n",
       "        text-align: right;\n",
       "    }\n",
       "</style>\n",
       "<table border=\"1\" class=\"dataframe\">\n",
       "  <thead>\n",
       "    <tr style=\"text-align: right;\">\n",
       "      <th></th>\n",
       "      <th>dept_name</th>\n",
       "      <th>gender</th>\n",
       "      <th>total_employees</th>\n",
       "    </tr>\n",
       "  </thead>\n",
       "  <tbody>\n",
       "    <tr>\n",
       "      <th>0</th>\n",
       "      <td>Marketing</td>\n",
       "      <td>M</td>\n",
       "      <td>8978</td>\n",
       "    </tr>\n",
       "    <tr>\n",
       "      <th>1</th>\n",
       "      <td>Marketing</td>\n",
       "      <td>F</td>\n",
       "      <td>5864</td>\n",
       "    </tr>\n",
       "    <tr>\n",
       "      <th>2</th>\n",
       "      <td>Sales</td>\n",
       "      <td>M</td>\n",
       "      <td>22702</td>\n",
       "    </tr>\n",
       "    <tr>\n",
       "      <th>3</th>\n",
       "      <td>Sales</td>\n",
       "      <td>F</td>\n",
       "      <td>14999</td>\n",
       "    </tr>\n",
       "  </tbody>\n",
       "</table>\n",
       "</div>"
      ],
      "text/plain": [
       "   dept_name gender  total_employees\n",
       "0  Marketing      M             8978\n",
       "1  Marketing      F             5864\n",
       "2      Sales      M            22702\n",
       "3      Sales      F            14999"
      ]
     },
     "execution_count": 273,
     "metadata": {},
     "output_type": "execute_result"
    }
   ],
   "source": [
    "cur_employees"
   ]
  },
  {
   "cell_type": "code",
   "execution_count": 274,
   "metadata": {},
   "outputs": [
    {
     "data": {
      "text/html": [
       "<div>\n",
       "<style scoped>\n",
       "    .dataframe tbody tr th:only-of-type {\n",
       "        vertical-align: middle;\n",
       "    }\n",
       "\n",
       "    .dataframe tbody tr th {\n",
       "        vertical-align: top;\n",
       "    }\n",
       "\n",
       "    .dataframe thead th {\n",
       "        text-align: right;\n",
       "    }\n",
       "</style>\n",
       "<table border=\"1\" class=\"dataframe\">\n",
       "  <thead>\n",
       "    <tr style=\"text-align: right;\">\n",
       "      <th></th>\n",
       "      <th>M</th>\n",
       "      <th>F</th>\n",
       "    </tr>\n",
       "  </thead>\n",
       "  <tbody>\n",
       "    <tr>\n",
       "      <th>Sales</th>\n",
       "      <td>22702</td>\n",
       "      <td>14999</td>\n",
       "    </tr>\n",
       "    <tr>\n",
       "      <th>Marketing</th>\n",
       "      <td>8978</td>\n",
       "      <td>5864</td>\n",
       "    </tr>\n",
       "  </tbody>\n",
       "</table>\n",
       "</div>"
      ],
      "text/plain": [
       "               M      F\n",
       "Sales      22702  14999\n",
       "Marketing   8978   5864"
      ]
     },
     "execution_count": 274,
     "metadata": {},
     "output_type": "execute_result"
    }
   ],
   "source": [
    "index = ['Sales','Marketing']\n",
    "columns = ['M','F']\n",
    "observed = pd.DataFrame([[22702, 14999], [8978, 5864]], index=index, columns=columns)\n",
    "observed"
   ]
  },
  {
   "cell_type": "code",
   "execution_count": 275,
   "metadata": {},
   "outputs": [
    {
     "name": "stdout",
     "output_type": "stream",
     "text": [
      "Observed\n",
      "\n",
      "[[22702 14999]\n",
      " [ 8978  5864]]\n",
      "---\n",
      "Expected\n",
      "\n",
      "[[22731.2426013 14969.7573987]\n",
      " [ 8948.7573987  5893.2426013]]\n",
      "---\n",
      "\n",
      "chi^2 = 0.3240\n",
      "p     = 0.5692\n"
     ]
    }
   ],
   "source": [
    "chi2, p, degf, expected = stats.chi2_contingency(observed)\n",
    "\n",
    "print('Observed\\n')\n",
    "print(observed.values)\n",
    "print('---\\nExpected\\n')\n",
    "print(expected)\n",
    "print('---\\n')\n",
    "print(f'chi^2 = {chi2:.4f}')\n",
    "print(f'p     = {p:.4f}')"
   ]
  },
  {
   "cell_type": "markdown",
   "metadata": {},
   "source": [
    "- Is an employee's gender independent of whether or not they are or have been a manager?"
   ]
  },
  {
   "cell_type": "code",
   "execution_count": null,
   "metadata": {},
   "outputs": [],
   "source": []
  }
 ],
 "metadata": {
  "kernelspec": {
   "display_name": "Python 3",
   "language": "python",
   "name": "python3"
  },
  "language_info": {
   "codemirror_mode": {
    "name": "ipython",
    "version": 3
   },
   "file_extension": ".py",
   "mimetype": "text/x-python",
   "name": "python",
   "nbconvert_exporter": "python",
   "pygments_lexer": "ipython3",
   "version": "3.7.6"
  }
 },
 "nbformat": 4,
 "nbformat_minor": 4
}
