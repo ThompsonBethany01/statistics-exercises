{
 "cells": [
  {
   "cell_type": "markdown",
   "metadata": {},
   "source": [
    "# Zach's Notebook Walktrhough\n",
    "https://nbviewer.jupyter.org/urls/zgul.de/hypothesis-testing.ipynb"
   ]
  },
  {
   "cell_type": "code",
   "execution_count": 2,
   "metadata": {},
   "outputs": [],
   "source": [
    "import math\n",
    "\n",
    "import numpy as np\n",
    "import pandas as pd\n",
    "import matplotlib.pyplot as plt\n",
    "from scipy import stats"
   ]
  },
  {
   "cell_type": "code",
   "execution_count": 3,
   "metadata": {},
   "outputs": [],
   "source": [
    "plt.rc('figure', figsize=(16, 9))\n",
    "plt.rc('axes.spines', top=False, right=False)\n",
    "plt.rc('patch', ec='black', force_edgecolor=True)\n",
    "plt.rc('font', size=13)\n",
    "\n",
    "np.random.seed(13)"
   ]
  },
  {
   "cell_type": "markdown",
   "metadata": {},
   "source": [
    "### Simulation Based Approach"
   ]
  },
  {
   "cell_type": "markdown",
   "metadata": {},
   "source": [
    "- Example: Codeup starts producing a scratch off lottery ticket called \"Golden Codys\". The odds of winning a prize must be advertised to the state, and since we are manufacturing the tickets, we know exactly how many winners and losers there are.\n",
    "- Theory: Our population is the 1000 tickets we have manufactured\n",
    "- Implementation: Create a boolean pandas Series\n",
    "    - we model win with true and lose with false\n",
    "    - because of this, we can take the mean of a series to measure the likelihood of winning"
   ]
  },
  {
   "cell_type": "code",
   "execution_count": 38,
   "metadata": {},
   "outputs": [
    {
     "name": "stdout",
     "output_type": "stream",
     "text": [
      "The actual probability of winning is 0.10\n"
     ]
    },
    {
     "data": {
      "image/png": "[encoded data removed]",
      "text/plain": [
       "<Figure size 1152x648 with 1 Axes>"
      ]
     },
     "metadata": {
      "needs_background": "light"
     },
     "output_type": "display_data"
    }
   ],
   "source": [
    "#creating the odds to be one golden ducky per ten golden duckies\n",
    "tickets = pd.Series([True] * 100 + [False] * 900)\n",
    "tickets.value_counts().set_axis(['Lose', 'Win']).plot.bar(color='khaki')\n",
    "plt.xticks(rotation=0)\n",
    "print('The actual probability of winning is %.2f' % tickets.mean())"
   ]
  },
  {
   "cell_type": "markdown",
   "metadata": {},
   "source": [
    "- Scenario: Each student in a classroom is given a Golden Cody scratch off at random\n",
    "- Theory\n",
    "    - We we take a random sample and calculate the win rate, we won't expect to see exactly 10% even though we know that is what the overall rate is.\n",
    "\n",
    "- Examples of biased samples:\n",
    "\n",
    "    - non-response: people that don't respond are a diff population\n",
    "    - undercoverage: some groups aren't well represented\n",
    "    - voluntary: people volunteer for surveys\n",
    "    - leading questions\n",
    "    - social desirability\n",
    "\n",
    "- Implementation: Use the .sample method on our series to randomly choose 20 tickets, representing 20 students in a classroom. Use .mean to calculate what percentage of the values are True, or are winning tickets."
   ]
  },
  {
   "cell_type": "code",
   "execution_count": 50,
   "metadata": {},
   "outputs": [
    {
     "data": {
      "text/plain": [
       "0.25"
      ]
     },
     "execution_count": 50,
     "metadata": {},
     "output_type": "execute_result"
    }
   ],
   "source": [
    "#random sample with win rate of %10\n",
    "n = 20\n",
    "tickets.sample(n).mean()"
   ]
  },
  {
   "cell_type": "markdown",
   "metadata": {},
   "source": [
    "- Scenario: each student in 4 different cohorts is given a Golden Codys scratch off ticket, we want to calculate the win rate for each classroom.\n",
    "- Theory: it is unlikely any classroom will have exactly a 10% winrate, instead we will see slightly different numbers for each classroom.\n",
    "- Implementation: loop through a range of 10 to get a sample and calculate the winrate 10 times. Each of the 10 numbers produced represents the calculated winrate for one classroom of 20 students."
   ]
  },
  {
   "cell_type": "code",
   "execution_count": 57,
   "metadata": {},
   "outputs": [
    {
     "data": {
      "text/plain": [
       "[0.1, 0.05, 0.05, 0.1, 0.15, 0.05, 0.15, 0.05, 0.15, 0.15]"
      ]
     },
     "execution_count": 57,
     "metadata": {},
     "output_type": "execute_result"
    }
   ],
   "source": [
    "[tickets.sample(n).mean() for _ in range(10)]"
   ]
  },
  {
   "cell_type": "markdown",
   "metadata": {},
   "source": [
    "- Theory: The winrates we see aren't ever exactly 10%, but we would expect the rate to be closer to 10% than further away. That is, it is more likely that a classroom will come up with a win rate of 9% than a winrate of 20%.\n",
    "\n",
    "    - If we were to repeat this experiment a whole bunch of times, say 10,000, we would find that the calculated winrates are, in fact, normally distributed.\n",
    "\n",
    "    - That is, we would expect the calculated average winrate for a classroom to follow a normal distribution, even though the underlying random process is not based on a normal distribution\n",
    "\n",
    "- Implementation: To visualize this, we'll create a series full of calculated winrates for 10,000 classrooms, each classroom made up of 20 students. That is, we will simulate 10,000 classrooms of 20 students getting Golden Codys and calculate the average winrate for each of the 10,000 classrooms."
   ]
  },
  {
   "cell_type": "code",
   "execution_count": 61,
   "metadata": {},
   "outputs": [
    {
     "data": {
      "text/plain": [
       "<matplotlib.axes._subplots.AxesSubplot at 0x7ff462843290>"
      ]
     },
     "execution_count": 61,
     "metadata": {},
     "output_type": "execute_result"
    },
    {
     "data": {
      "image/png": "[encoded data removed]",
      "text/plain": [
       "<Figure size 1152x648 with 1 Axes>"
      ]
     },
     "metadata": {
      "needs_background": "light"
     },
     "output_type": "display_data"
    }
   ],
   "source": [
    "calculated_winrates = pd.Series([tickets.sample(n).mean() for _ in range(10_000)])\n",
    "calculated_winrates.plot.hist(bins=10)"
   ]
  },
  {
   "cell_type": "markdown",
   "metadata": {},
   "source": [
    "- Theory: The above visual represents the sampling distribution for the winrate of Golden Codys, based on a class of 20.\n",
    "\n",
    "- The Central Limit Theorm says that sampling distribution will be normally distributed even if the underlying random variable isn't."
   ]
  },
  {
   "cell_type": "markdown",
   "metadata": {},
   "source": [
    "- Theory: in practice, we won't have 10,000 samples to work with, but rather just 1. We can stil rely on the sampling distribution being normally distributed, and this has some intersting properties.\n",
    "- the mean of the sampling distribution of the sample means will be the \"true\" mean\n",
    "- the variance of the sampling distribution is the population variable divided by the sample size\n",
    "- the standard deviation of the sampling distribution is pqn‾‾‾√ (for our example), aka the standard error"
   ]
  },
  {
   "cell_type": "code",
   "execution_count": 69,
   "metadata": {},
   "outputs": [
    {
     "name": "stdout",
     "output_type": "stream",
     "text": [
      "0.0670820393249937\n"
     ]
    }
   ],
   "source": [
    "se = math.sqrt((.10 * .90) / n)\n",
    "print(se)"
   ]
  },
  {
   "cell_type": "markdown",
   "metadata": {},
   "source": [
    "Let's compare our calculated standard error (i.e. the standard deviation of the sample means) to the experimental value:"
   ]
  },
  {
   "cell_type": "code",
   "execution_count": 70,
   "metadata": {},
   "outputs": [
    {
     "name": "stdout",
     "output_type": "stream",
     "text": [
      "SE:                 0.0671\n",
      "sample_means.std(): 0.0664\n"
     ]
    }
   ],
   "source": [
    "print('SE:                 %.4f' % se)\n",
    "print('sample_means.std(): %.4f' % calculated_winrates.std())"
   ]
  },
  {
   "cell_type": "markdown",
   "metadata": {},
   "source": [
    "- That the sampling distribution being normally distributed is very powerful and has important implications:\n",
    "\n",
    "    - confidence intervals for population parameter estimates (e.g. estimating the population mean)\n",
    "    - as n goes up, interval becomes smaller\n",
    "    - as certainty goes up, interval becomes larger\n",
    "    - 99% of calculated CIs will contain the true mean (e.g. if we ran simulations and re-sampled, 99% of the simulations' calculated CIs would contain the true mean)\n",
    "- hypothesis testing\n",
    "    - One classroom calculates their winrate at 7% and claims the tickets were distributed unfairly. What is the likelihood we observe a 7% (or smaller) winrate just due to chance?"
   ]
  },
  {
   "cell_type": "code",
   "execution_count": 72,
   "metadata": {},
   "outputs": [
    {
     "data": {
      "text/plain": [
       "0.315547532357701"
      ]
     },
     "execution_count": 72,
     "metadata": {},
     "output_type": "execute_result"
    }
   ],
   "source": [
    "mean = calculated_winrates.mean()\n",
    "sd = calculated_winrates.std()\n",
    "\n",
    "stats.norm(mean, sd).cdf(.07)"
   ]
  },
  {
   "cell_type": "markdown",
   "metadata": {},
   "source": [
    "The probability we've calculated is a p-value. The likelihood that we observe the data that we have if the null hypothesis is true."
   ]
  },
  {
   "cell_type": "markdown",
   "metadata": {},
   "source": [
    "### Null and Alternative Hypothesis\n",
    "- H0: status quo: no difference or no effect\n",
    "- Ha: alternative: there is a difference or effect\n",
    "- whether Ha is ≠, <, >, determines one-tailed vs two-tailed test\n",
    "    - < or > == one-tailed\n",
    "    - ≠ == two-tailed"
   ]
  },
  {
   "cell_type": "markdown",
   "metadata": {},
   "source": [
    "### Mini Exercise -- CLT\n",
    "- Calculate, theoretically (in your head is fine), the expected value for the average of 6 dice rolls.\n",
    "- Write the code necessary to simulate taking the average of 6 dice rolls 10,000 times. Store each of the 10,000 averages in a list.\n",
    "- Plot the distribution of the calculated averages. What do you notice about the shape of the distribution of calculated averages? What kind of distribution is the underlying random variable (i.e. one dice roll?)"
   ]
  },
  {
   "cell_type": "code",
   "execution_count": 77,
   "metadata": {},
   "outputs": [
    {
     "name": "stdout",
     "output_type": "stream",
     "text": [
      "3.5\n"
     ]
    }
   ],
   "source": [
    "#theoretically, each dice number has equal chance to be rolled, we take the average of that\n",
    "theory_prob = (6 + 5 + 4 + 3 + 2 + 1)/6"
   ]
  },
  {
   "cell_type": "code",
   "execution_count": 97,
   "metadata": {},
   "outputs": [
    {
     "data": {
      "text/html": [
       "<div>\n",
       "<style scoped>\n",
       "    .dataframe tbody tr th:only-of-type {\n",
       "        vertical-align: middle;\n",
       "    }\n",
       "\n",
       "    .dataframe tbody tr th {\n",
       "        vertical-align: top;\n",
       "    }\n",
       "\n",
       "    .dataframe thead th {\n",
       "        text-align: right;\n",
       "    }\n",
       "</style>\n",
       "<table border=\"1\" class=\"dataframe\">\n",
       "  <thead>\n",
       "    <tr style=\"text-align: right;\">\n",
       "      <th></th>\n",
       "      <th>0</th>\n",
       "      <th>1</th>\n",
       "      <th>2</th>\n",
       "      <th>3</th>\n",
       "      <th>4</th>\n",
       "      <th>5</th>\n",
       "      <th>average_rolls</th>\n",
       "    </tr>\n",
       "  </thead>\n",
       "  <tbody>\n",
       "    <tr>\n",
       "      <th>0</th>\n",
       "      <td>3</td>\n",
       "      <td>6</td>\n",
       "      <td>5</td>\n",
       "      <td>1</td>\n",
       "      <td>5</td>\n",
       "      <td>3</td>\n",
       "      <td>3.833333</td>\n",
       "    </tr>\n",
       "    <tr>\n",
       "      <th>1</th>\n",
       "      <td>6</td>\n",
       "      <td>5</td>\n",
       "      <td>6</td>\n",
       "      <td>6</td>\n",
       "      <td>1</td>\n",
       "      <td>2</td>\n",
       "      <td>4.333333</td>\n",
       "    </tr>\n",
       "    <tr>\n",
       "      <th>2</th>\n",
       "      <td>4</td>\n",
       "      <td>5</td>\n",
       "      <td>6</td>\n",
       "      <td>2</td>\n",
       "      <td>3</td>\n",
       "      <td>4</td>\n",
       "      <td>4.000000</td>\n",
       "    </tr>\n",
       "    <tr>\n",
       "      <th>3</th>\n",
       "      <td>2</td>\n",
       "      <td>3</td>\n",
       "      <td>6</td>\n",
       "      <td>6</td>\n",
       "      <td>3</td>\n",
       "      <td>1</td>\n",
       "      <td>3.500000</td>\n",
       "    </tr>\n",
       "    <tr>\n",
       "      <th>4</th>\n",
       "      <td>6</td>\n",
       "      <td>2</td>\n",
       "      <td>4</td>\n",
       "      <td>3</td>\n",
       "      <td>4</td>\n",
       "      <td>3</td>\n",
       "      <td>3.666667</td>\n",
       "    </tr>\n",
       "    <tr>\n",
       "      <th>...</th>\n",
       "      <td>...</td>\n",
       "      <td>...</td>\n",
       "      <td>...</td>\n",
       "      <td>...</td>\n",
       "      <td>...</td>\n",
       "      <td>...</td>\n",
       "      <td>...</td>\n",
       "    </tr>\n",
       "    <tr>\n",
       "      <th>9995</th>\n",
       "      <td>4</td>\n",
       "      <td>6</td>\n",
       "      <td>2</td>\n",
       "      <td>2</td>\n",
       "      <td>1</td>\n",
       "      <td>3</td>\n",
       "      <td>3.000000</td>\n",
       "    </tr>\n",
       "    <tr>\n",
       "      <th>9996</th>\n",
       "      <td>6</td>\n",
       "      <td>6</td>\n",
       "      <td>5</td>\n",
       "      <td>2</td>\n",
       "      <td>4</td>\n",
       "      <td>6</td>\n",
       "      <td>4.833333</td>\n",
       "    </tr>\n",
       "    <tr>\n",
       "      <th>9997</th>\n",
       "      <td>1</td>\n",
       "      <td>4</td>\n",
       "      <td>6</td>\n",
       "      <td>3</td>\n",
       "      <td>5</td>\n",
       "      <td>6</td>\n",
       "      <td>4.166667</td>\n",
       "    </tr>\n",
       "    <tr>\n",
       "      <th>9998</th>\n",
       "      <td>4</td>\n",
       "      <td>4</td>\n",
       "      <td>6</td>\n",
       "      <td>1</td>\n",
       "      <td>5</td>\n",
       "      <td>4</td>\n",
       "      <td>4.000000</td>\n",
       "    </tr>\n",
       "    <tr>\n",
       "      <th>9999</th>\n",
       "      <td>2</td>\n",
       "      <td>5</td>\n",
       "      <td>1</td>\n",
       "      <td>5</td>\n",
       "      <td>4</td>\n",
       "      <td>4</td>\n",
       "      <td>3.500000</td>\n",
       "    </tr>\n",
       "  </tbody>\n",
       "</table>\n",
       "<p>10000 rows × 7 columns</p>\n",
       "</div>"
      ],
      "text/plain": [
       "      0  1  2  3  4  5  average_rolls\n",
       "0     3  6  5  1  5  3       3.833333\n",
       "1     6  5  6  6  1  2       4.333333\n",
       "2     4  5  6  2  3  4       4.000000\n",
       "3     2  3  6  6  3  1       3.500000\n",
       "4     6  2  4  3  4  3       3.666667\n",
       "...  .. .. .. .. .. ..            ...\n",
       "9995  4  6  2  2  1  3       3.000000\n",
       "9996  6  6  5  2  4  6       4.833333\n",
       "9997  1  4  6  3  5  6       4.166667\n",
       "9998  4  4  6  1  5  4       4.000000\n",
       "9999  2  5  1  5  4  4       3.500000\n",
       "\n",
       "[10000 rows x 7 columns]"
      ]
     },
     "execution_count": 97,
     "metadata": {},
     "output_type": "execute_result"
    }
   ],
   "source": [
    "rolls = np.random.choice([1,2,3,4,5,6],size = 6 * 10_000).reshape(10_000, 6)\n",
    "rolls_df = pd.DataFrame(rolls)\n",
    "rolls_df['average_rolls'] = rolls_df.mean(axis=1)"
   ]
  },
  {
   "cell_type": "code",
   "execution_count": 106,
   "metadata": {},
   "outputs": [
    {
     "data": {
      "text/plain": [
       "<matplotlib.axes._subplots.AxesSubplot at 0x7ff44b698190>"
      ]
     },
     "execution_count": 106,
     "metadata": {},
     "output_type": "execute_result"
    },
    {
     "data": {
      "image/png": "[encoded data removed]",
      "text/plain": [
       "<Figure size 1152x648 with 1 Axes>"
      ]
     },
     "metadata": {
      "needs_background": "light"
     },
     "output_type": "display_data"
    }
   ],
   "source": [
    "y = rolls_df['average_rolls']\n",
    "\n",
    "y.plot.hist(bins=12)"
   ]
  },
  {
   "cell_type": "markdown",
   "metadata": {},
   "source": [
    "# A Normal Distribution\n",
    "The average is"
   ]
  },
  {
   "cell_type": "markdown",
   "metadata": {},
   "source": [
    "# Overview Exercises\n",
    "### For each of the following questions, formulate a null and alternative hypothesis (be as specific as you can be), then give an example of what a true positive, true negative, type I and type II errors would look like. Note that some of the questions are intentionally phrased in a vague way. It is your job to reword these as more precise questions that could be tested."
   ]
  },
  {
   "cell_type": "markdown",
   "metadata": {},
   "source": [
    "### Has the network latency gone up since we switched internet service providers?\n",
    "Has the speed of internet slowed down after changing internet service providers?"
   ]
  },
  {
   "cell_type": "markdown",
   "metadata": {},
   "source": [
    "##### null hypothesis\n",
    "There is no difference in network speed since changing internet service providers."
   ]
  },
  {
   "cell_type": "markdown",
   "metadata": {},
   "source": [
    "##### alternative hypothesis\n",
    "The network speed has slowed down since changing internet service providers."
   ]
  },
  {
   "cell_type": "markdown",
   "metadata": {},
   "source": [
    "##### true positive\n",
    "Since p is 0 within 10 decimal places, we can safely reject the null hypothesis of no linear correlation. Less formally, it seems as though the speed of network and internet service provider are very related."
   ]
  },
  {
   "cell_type": "markdown",
   "metadata": {},
   "source": [
    "##### true negative\n",
    "With such a high p-value, we fail to reject the null hypothesis. Less formally, it seems as though two groups are independent of each other and the speed of network has not changed with different internet service providers."
   ]
  },
  {
   "cell_type": "markdown",
   "metadata": {},
   "source": [
    "##### type I error\n",
    "We reject the null hypothesis with testing and decide to switch internet providers. In actuality, the internet provider did not affect the speed of internet, and it stays the same after switching."
   ]
  },
  {
   "cell_type": "markdown",
   "metadata": {},
   "source": [
    "##### type II error\n",
    "We accept the null hypothesis and stay with the same internet provider. However, the provider was causing a slower network speed, and it continues to affect the internet latency."
   ]
  },
  {
   "cell_type": "markdown",
   "metadata": {},
   "source": [
    "### Is the website redesign any good?\n",
    "Do less customers use our website after redesigning?"
   ]
  },
  {
   "cell_type": "markdown",
   "metadata": {},
   "source": [
    "##### null hypothesis\n",
    "There is no change in rate of customers using the website."
   ]
  },
  {
   "cell_type": "markdown",
   "metadata": {},
   "source": [
    "##### alternative hypothesis\n",
    "Less customers have been using the website after the redesign."
   ]
  },
  {
   "cell_type": "markdown",
   "metadata": {},
   "source": [
    "##### true positive\n",
    "Since p is 0 within 10 decimal places, we can safely reject the null hypothesis of no linear correlation. Less formally, it seems as though the web redesign has cause less customers to visit the website."
   ]
  },
  {
   "cell_type": "markdown",
   "metadata": {},
   "source": [
    "##### true negative\n",
    "With such a high p-value, we fail to reject the null hypothesis. Less formally, it seems as though two groups are independent of each other and the redesigned website has not changed the rate of customers visting the site."
   ]
  },
  {
   "cell_type": "markdown",
   "metadata": {},
   "source": [
    "##### type I error\n",
    "We reject the null hypothesis with testing and decide to redesign the website again. In actuality, the original redesign did not affect the rate of customers visiting the site, and we spent money on redesigning for nothing. \n",
    ":/"
   ]
  },
  {
   "cell_type": "markdown",
   "metadata": {},
   "source": [
    "##### type II error\n",
    "We accept the null hypothesis and do not change the website again. However, the redesign is continuing to cause customers to use our site less."
   ]
  },
  {
   "cell_type": "markdown",
   "metadata": {},
   "source": [
    "### Is our television ad driving more sales?\n",
    "Do we have an increase in sales after broadcasting our television ad?"
   ]
  },
  {
   "cell_type": "markdown",
   "metadata": {},
   "source": [
    "##### null hypothesis\n",
    "We have the same amount of sales after broadcasting out television ad."
   ]
  },
  {
   "cell_type": "markdown",
   "metadata": {},
   "source": [
    "##### alternative hypothesis\n",
    "Our amount of sales have changed after broadcasting our television ad."
   ]
  },
  {
   "cell_type": "markdown",
   "metadata": {},
   "source": [
    "##### true positive\n",
    "Since p is 0 within 10 decimal places, we can safely reject the null hypothesis of no linear correlation. Less formally, we have an increase (or decrease if controversial! o.o) of sales after broadcasting our television ad."
   ]
  },
  {
   "cell_type": "markdown",
   "metadata": {},
   "source": [
    "##### true negative\n",
    "With such a high p-value, we fail to reject the null hypothesis. Less formally, the television advertisment did not cause a change in rate of sales."
   ]
  },
  {
   "cell_type": "markdown",
   "metadata": {},
   "source": [
    "##### type I error\n",
    "We reject the null hypothesis with testing and decide to keep playing the ad. In actuality, we do not have an increase of sales and lose money. :?"
   ]
  },
  {
   "cell_type": "markdown",
   "metadata": {},
   "source": [
    "##### type II error\n",
    "We accept the null hypothesis and stop playing the television ad. However, the advertisment did cause an increase in sales and now we no longer have an increase."
   ]
  },
  {
   "cell_type": "markdown",
   "metadata": {},
   "source": [
    "# T-Test Exercises"
   ]
  },
  {
   "cell_type": "markdown",
   "metadata": {},
   "source": [
    "### Ace Realty wants to determine whether the average time it takes to sell homes is different for its two offices. A sample of 40 sales from office #1 revealed a mean of 90 days and a standard deviation of 15 days. A sample of 50 sales from office #2 revealed a mean of 100 days and a standard deviation of 20 days. Use a .05 level of significance."
   ]
  },
  {
   "cell_type": "markdown",
   "metadata": {},
   "source": [
    "### Load the mpg dataset and use it to answer the following questions:"
   ]
  },
  {
   "cell_type": "markdown",
   "metadata": {},
   "source": [
    "##### Is there a difference in fuel-efficiency in cars from 2008 vs 1999?"
   ]
  },
  {
   "cell_type": "markdown",
   "metadata": {},
   "source": [
    "##### Are compact cars more fuel-efficient than the average car?"
   ]
  },
  {
   "cell_type": "markdown",
   "metadata": {},
   "source": [
    "##### Do manual cars get better gas mileage than automatic cars?"
   ]
  }
 ],
 "metadata": {
  "kernelspec": {
   "display_name": "Python 3",
   "language": "python",
   "name": "python3"
  },
  "language_info": {
   "codemirror_mode": {
    "name": "ipython",
    "version": 3
   },
   "file_extension": ".py",
   "mimetype": "text/x-python",
   "name": "python",
   "nbconvert_exporter": "python",
   "pygments_lexer": "ipython3",
   "version": "3.7.6"
  }
 },
 "nbformat": 4,
 "nbformat_minor": 4
}
