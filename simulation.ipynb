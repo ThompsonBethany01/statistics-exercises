{
 "cells": [
  {
   "cell_type": "code",
   "execution_count": 2,
   "metadata": {},
   "outputs": [],
   "source": [
    "#numpy creates random values with various functions\n",
    "import numpy as np\n",
    "\n",
    "#we can convert these random values to data frames to calculate probability\n",
    "import pandas as pd"
   ]
  },
  {
   "cell_type": "markdown",
   "metadata": {},
   "source": [
    "# 1. How likely is it that you roll doubles when rolling two dice?"
   ]
  },
  {
   "cell_type": "code",
   "execution_count": 176,
   "metadata": {},
   "outputs": [
    {
     "name": "stdout",
     "output_type": "stream",
     "text": [
      "The probability of rolling doubles when you roll two dice 100,000 times is: 0.16416\n"
     ]
    }
   ],
   "source": [
    "#how many times we will run the same simulation, the higher the more accurate\n",
    "n_simulations = nrows = 10**5\n",
    "#how many dice rolls we have for each simulation\n",
    "n_dice_rolled = ncols = 2\n",
    "\n",
    "#list our options for the dice\n",
    "choice = [1,2,3,4,5,6]\n",
    "#picks random options from the 'dice' amoun of times specified, \n",
    "#reshape outputs in rows and columns based on our amount of simulations and rolls per trial\n",
    "rolls = np.random.choice(choice, nrows * ncols).reshape(nrows, ncols)\n",
    "\n",
    "#converts to dataframe\n",
    "rolls_df = pd.DataFrame(rolls)\n",
    "\n",
    "#applys a function to check if the two dice rolls match, and takes the average of times this happens\n",
    "prob = rolls_df.apply(lambda row: row[0] == row[1], axis=1).mean()\n",
    "print(\"The probability of rolling doubles when you roll two dice 100,000 times is:\", prob)\n"
   ]
  },
  {
   "cell_type": "markdown",
   "metadata": {},
   "source": [
    "# 2. If you flip 8 coins, what is the probability of getting exactly 3 heads? What is the probability of getting more than 3 heads?"
   ]
  },
  {
   "cell_type": "code",
   "execution_count": 32,
   "metadata": {},
   "outputs": [],
   "source": [
    "#defining a function to count flips in a list, specifically Heads only\n",
    "def count_heads(flip_list):\n",
    "    count = 0\n",
    "    \n",
    "    #iterates through the items in the list\n",
    "    for coin in flip_list:\n",
    "        #conditional if the item is Heads\n",
    "        if coin == 'Heads':\n",
    "            #adds to count\n",
    "            count += 1\n",
    "            \n",
    "    return count"
   ]
  },
  {
   "cell_type": "code",
   "execution_count": 177,
   "metadata": {},
   "outputs": [
    {
     "name": "stdout",
     "output_type": "stream",
     "text": [
      "The probability of flipping 8 coins 100,000 times and getting exactly 3 heads is: 0.21766\n"
     ]
    }
   ],
   "source": [
    "#how many times we will run the same simulation, the higher the more accurate\n",
    "n_simulations = nrows = 10**5\n",
    "#how many times we flip the coin per simulation(trial)\n",
    "n_coin_flipped = ncols = 8\n",
    "\n",
    "#the choice to be randomly picked\n",
    "choice = ['Tails','Heads']\n",
    "#creates random choice of heads or tails for the amounf of times specified\n",
    "#reshapes into each trial as a row and each simulated flip as the columns\n",
    "flips = np.random.choice(choice, nrows * ncols).reshape(nrows, ncols)\n",
    "\n",
    "#converts to data frame in order to apply function\n",
    "flips_df = pd.DataFrame(flips)\n",
    "\n",
    "#applying function to count how many times heads are in each simulation\n",
    "#takes the average of how many times the simulation count equals 3\n",
    "prob = flips_df.apply(lambda row: count_heads(row) == 3, axis=1).mean()\n",
    "print(\"The probability of flipping 8 coins 100,000 times and getting exactly 3 heads is:\", prob)"
   ]
  },
  {
   "cell_type": "code",
   "execution_count": 178,
   "metadata": {},
   "outputs": [
    {
     "name": "stdout",
     "output_type": "stream",
     "text": [
      "The probability of flipping 8 coins 100,000 times and getting more than 3 heads is: 0.63743\n"
     ]
    }
   ],
   "source": [
    "#applying function to count how many times heads are in each simulation\n",
    "#takes the average of how many times the simulation count is greater than 3\n",
    "prob = flips_df.apply(lambda row: count_heads(row) > 3, axis=1).mean()\n",
    "print(\"The probability of flipping 8 coins 100,000 times and getting more than 3 heads is:\", prob)\n"
   ]
  },
  {
   "cell_type": "markdown",
   "metadata": {},
   "source": [
    "# 3. There are approximitely 3 web development cohorts for every 1 data science cohort at Codeup. Assuming that Codeup randomly selects an alumni to put on a billboard, what are the odds that the two billboards I drive past both have data science students on them?"
   ]
  },
  {
   "cell_type": "code",
   "execution_count": 179,
   "metadata": {},
   "outputs": [
    {
     "name": "stdout",
     "output_type": "stream",
     "text": [
      "The probability that both billboards you drive past have Data Science students is: 0.06193\n"
     ]
    }
   ],
   "source": [
    "#how many times we will run the same simulation, the higher the more accurate\n",
    "n_simulations = nrows = 10**5\n",
    "#how many bilboards we see\n",
    "n_billboards = ncols = 2\n",
    "\n",
    "#the choice to be randomly picked\n",
    "choice = [\"Web Dev\",\"Data Science\"]\n",
    "\n",
    "#creates random choice of student for the amounf of times specified\n",
    "#we add p = [] to add the probabilities of each option\n",
    "#reshapes into each trial as a row and each simulated student choosen as the columns\n",
    "billboards = np.random.choice(choice, nrows * ncols, p = [.75,.25]).reshape(nrows, ncols)\n",
    "\n",
    "#converts to dataframe to apply average function\n",
    "billboards_df = pd.DataFrame(billboards)\n",
    "\n",
    "#checks if both simulations in the trial equals 'Data Science' \n",
    "#and finds the average of this happening in all trials\n",
    "prob = billboards_df.apply(lambda row: row[0] == row[1] == 'Data Science', axis=1).mean()\n",
    "print('The probability that both billboards you drive past have Data Science students is:',prob)\n",
    "      "
   ]
  },
  {
   "cell_type": "markdown",
   "metadata": {},
   "source": [
    "# 4. Codeup students buy, on average, 3 poptart packages (+- 1.5) a day from the snack vending machine. If on monday the machine is restocked with 17 poptart packages, how likely is it that I will be able to buy some poptarts on Friday afternoon?"
   ]
  },
  {
   "cell_type": "code",
   "execution_count": 181,
   "metadata": {},
   "outputs": [
    {
     "name": "stdout",
     "output_type": "stream",
     "text": [
      "The probability of being able to buy at least one poptart package on friday is: 0.79333\n"
     ]
    }
   ],
   "source": [
    "#First simualtion is how many poptarts are bought for one day\n",
    "n_simulations = nrows1 = 10**5\n",
    "n_poptarts = ncols2 = 1\n",
    "\n",
    "#the choices are picked based on the average and standard deviation given\n",
    "choices = np.random.uniform(1.5,4.5, nrows1 * ncols2)\n",
    "#rounds these choice to whole numbers, you cant buy half a poptart from a vending machine\n",
    "choices = np.around(choices, 0)\n",
    "\n",
    "#this simulates poptarts bought in a week\n",
    "#how many times we will run the same simulation, the higher the more accurate\n",
    "n_simulations = nrows = 10**5\n",
    "#five days in a week for each trial\n",
    "n_days = ncols = 5\n",
    "\n",
    "#choose poptarts bought for the day from first simulation\n",
    "#reshapes into each trial as a row and each simulated poptart for the day as the columns\n",
    "weekly_poptarts = np.random.choice(choices, nrows * ncols).reshape(nrows, ncols)\n",
    "#converts to data frame to apply function\n",
    "weekly_poptarts_df = pd.DataFrame(weekly_poptarts)\n",
    "\n",
    "prob = weekly_poptarts_df.apply(lambda row: sum(row) <= 16, axis=1).mean()\n",
    "print(\"The probability of being able to buy at least one poptart package on friday is:\",prob)"
   ]
  },
  {
   "cell_type": "markdown",
   "metadata": {},
   "source": [
    "# 5. Compare Heights\n",
    "Men have an average height of 178 cm and standard deviation of 8cm.\n",
    "Women have a mean of 170, sd = 6cm."
   ]
  },
  {
   "cell_type": "markdown",
   "metadata": {},
   "source": [
    "### If a man and woman are chosen at random, P(woman taller than man)?"
   ]
  },
  {
   "cell_type": "code",
   "execution_count": 182,
   "metadata": {},
   "outputs": [
    {
     "name": "stdout",
     "output_type": "stream",
     "text": [
      "The probability of a random woman being taller than a random man is: 0.21138\n"
     ]
    }
   ],
   "source": [
    "#first simulation is finding a random value for height based on women and men data\n",
    "#how many times we will run the same simulation, the higher the more accurate\n",
    "n_simulations = nrows = 10**5\n",
    "\n",
    "#picks one person for each trial\n",
    "n_people = ncols = 1\n",
    "\n",
    "#creates a seperate random numpy for women and men\n",
    "men = np.random.normal(178,8, nrows * ncols)\n",
    "women = np.random.normal(170,6, nrows * ncols)\n",
    "\n",
    "#converts these values into seperate data frames\n",
    "men_df = pd.DataFrame(men)\n",
    "women_df = pd.DataFrame(women)\n",
    "\n",
    "#combines these two together to have a trial consisting of one female height and one male height\n",
    "both = pd.concat([men_df, women_df], ignore_index = True, axis=1)\n",
    "\n",
    "#applys a function to find the average of times in the whole simulation a woman is taller than a man\n",
    "prob = both.apply(lambda row: row[0] <= row[1], axis=1).mean()\n",
    "print(\"The probability of a random woman being taller than a random man is:\",prob)"
   ]
  },
  {
   "cell_type": "markdown",
   "metadata": {},
   "source": [
    "# 6. When installing anaconda on a student's computer, there's a 1 in 250 chance that the download is corrupted and the installation fails. What are the odds that after having 50 students download anaconda, no one has an installation issue? "
   ]
  },
  {
   "cell_type": "code",
   "execution_count": 184,
   "metadata": {},
   "outputs": [
    {
     "name": "stdout",
     "output_type": "stream",
     "text": [
      "The probability that 50 students download anaconda with no issueas is: 0.81705\n"
     ]
    }
   ],
   "source": [
    "#how many times we will run the sam simulation, the higher the more accurate\n",
    "n_simulations = nrows = 10**5\n",
    "#number of students downloading anaconda\n",
    "n_downloads = ncols = 50\n",
    "\n",
    "#0 not corrupt, 1 is corrupt\n",
    "choice = [0, 1]\n",
    "#chooses corrupt or not based on the specified probability for each\n",
    "#reshapes into each simulation of 50 students per trial\n",
    "corruption = np.random.choice(choice, nrows * ncols, p = [.996,.004]).reshape(nrows, ncols)\n",
    "\n",
    "#converts to data frame to apply function\n",
    "corruption_df = pd.DataFrame(corruption)\n",
    "\n",
    "prob = corruption_df.apply(lambda row: sum(row) == 0, axis=1).mean()\n",
    "print(\"The probability that 50 students download anaconda with no issues is:\", prob)"
   ]
  },
  {
   "cell_type": "markdown",
   "metadata": {},
   "source": [
    "### 100 students?"
   ]
  },
  {
   "cell_type": "code",
   "execution_count": 185,
   "metadata": {},
   "outputs": [
    {
     "name": "stdout",
     "output_type": "stream",
     "text": [
      "The probability that 100 students download anaconda with no issueas is: 0.66724\n"
     ]
    }
   ],
   "source": [
    "#how many times we will run the same simulation, the higher the more accurate\n",
    "n_simulations = nrows = 10**5\n",
    "#same code, but changing the amount of students downloading to 100\n",
    "n_downloads = ncols = 100\n",
    "\n",
    "#0 not corrupt, 1 is corrupt\n",
    "choice = [0, 1]\n",
    "corruption = np.random.choice(choice, nrows * ncols, p = [.996,.004]).reshape(nrows, ncols)\n",
    "\n",
    "corruption_df = pd.DataFrame(corruption)\n",
    "\n",
    "prob = corruption_df.apply(lambda row: sum(row) == 0, axis=1).mean()\n",
    "print(\"The probability that 100 students download anaconda with no issues is:\", prob)"
   ]
  },
  {
   "cell_type": "markdown",
   "metadata": {},
   "source": [
    "### What is the probability that we observe an installation issue within the first 150 students that download anaconda?"
   ]
  },
  {
   "cell_type": "code",
   "execution_count": 187,
   "metadata": {},
   "outputs": [
    {
     "name": "stdout",
     "output_type": "stream",
     "text": [
      "The probability that 150 students download anaconda with at least one issue is: 0.45248\n"
     ]
    }
   ],
   "source": [
    "#how many times we will run the same simulation, the higher the more accurate\n",
    "n_simulations = nrows = 10**5\n",
    "#same code, but changing the amount of students downloading to 150\n",
    "n_downloads = ncols = 150\n",
    "\n",
    "#0 not corrupt, 1 is corrupt\n",
    "choice = [0, 1]\n",
    "corruption = np.random.choice(choice, nrows * ncols, p = [.996,.004]).reshape(nrows, ncols)\n",
    "\n",
    "corruption_df = pd.DataFrame(corruption)\n",
    "\n",
    "#we also change the conditional to check that at least one student has an issue for each trial\n",
    "#average the amount of times this is true\n",
    "prob = corruption_df.apply(lambda row: sum(row) >= 1, axis=1).mean()\n",
    "print(\"The probability that 150 students download anaconda with at least one issue is:\", prob)"
   ]
  },
  {
   "cell_type": "markdown",
   "metadata": {},
   "source": [
    "### How likely is it that 450 students all download anaconda without an issue?"
   ]
  },
  {
   "cell_type": "code",
   "execution_count": 188,
   "metadata": {},
   "outputs": [
    {
     "name": "stdout",
     "output_type": "stream",
     "text": [
      "The probability that 450 students download anaconda with no issues is: 0.165\n"
     ]
    }
   ],
   "source": [
    "#how many times we will run the same simulation, the higher the more accurate\n",
    "n_simulations = nrows = 10**5\n",
    "#same code, but changing the amount of students downloading to 400\n",
    "n_downloads = ncols = 450\n",
    "\n",
    "#0 not corrupt, 1 is corrupt\n",
    "choice = [0, 1]\n",
    "corruption = np.random.choice(choice, nrows * ncols, p = [.996,.004]).reshape(nrows, ncols)\n",
    "\n",
    "corruption_df = pd.DataFrame(corruption)\n",
    "\n",
    "prob = corruption_df.apply(lambda row: sum(row) == 0, axis=1).mean()\n",
    "print(\"The probability that 450 students download anaconda with no issues is:\", prob)"
   ]
  },
  {
   "cell_type": "markdown",
   "metadata": {},
   "source": [
    "# 7. There's a 70% chance on any given day that there will be at least one food truck at Travis Park. However, you haven't seen a food truck there in 3 days. How unlikely is this?"
   ]
  },
  {
   "cell_type": "code",
   "execution_count": 191,
   "metadata": {},
   "outputs": [
    {
     "name": "stdout",
     "output_type": "stream",
     "text": [
      "The probability of going 3 days to Travis Park and not ever seeing a food truck is: 0.02679\n"
     ]
    }
   ],
   "source": [
    "#how many times we will run the sam simulation, the higher the more accurate\n",
    "n_simulations = nrows = 10**5\n",
    "#trials are 3 days long\n",
    "n_days = ncols = 3\n",
    "\n",
    "#0 food truck, 1 is no food truck\n",
    "choice = [0, 1]\n",
    "#chooses whether food truck is there based on probability given\n",
    "foodtruck = np.random.choice(choice, nrows * ncols, p = [.7,.3]).reshape(nrows, ncols)\n",
    "\n",
    "#converts to data frame to apply function belown\n",
    "foodtruck_df = pd.DataFrame(foodtruck)\n",
    "\n",
    "#finds the average of simulations without food truck \n",
    "#which would be a trial sum of 3 for the trial\n",
    "prob = foodtruck_df.apply(lambda row: sum(row) == 3, axis=1).mean()\n",
    "print(\"The probability of going 3 days to Travis Park and not ever seeing a food truck is:\",prob)"
   ]
  },
  {
   "cell_type": "markdown",
   "metadata": {},
   "source": [
    "### How likely is it that a food truck will show up sometime this week?"
   ]
  },
  {
   "cell_type": "code",
   "execution_count": 194,
   "metadata": {},
   "outputs": [
    {
     "name": "stdout",
     "output_type": "stream",
     "text": [
      "The probability of going 7 days to Travis Park and seeing at least one food truck is: 0.99975\n"
     ]
    }
   ],
   "source": [
    "#how many times we will run the sam simulation, the higher the more accurate\n",
    "n_simulations = nrows = 10**5\n",
    "n_days = ncols = 7\n",
    "\n",
    "#0 is food truck, 1 is no food truck\n",
    "choice = [0, 1]\n",
    "#chooses whether food truck is there based on probability given\n",
    "foodtruck = np.random.choice(choice, nrows * ncols, p = [.7,.3]).reshape(nrows, ncols)\n",
    "\n",
    "#converts to data frame to apply function belown\n",
    "foodtruck_df = pd.DataFrame(foodtruck)\n",
    "\n",
    "#finds the average of simulations with at least one food truck the week \n",
    "#which would be a trial sum of at least 7\n",
    "prob = foodtruck_df.apply(lambda row: sum(row) < 7, axis=1).mean()\n",
    "print(\"The probability of going 7 days to Travis Park and seeing at least one food truck is:\",prob)"
   ]
  },
  {
   "cell_type": "markdown",
   "metadata": {},
   "source": [
    "# 8. If 23 people are in the same room, what are the odds that two of them share a birthday? What if it's 20 people? 40?"
   ]
  },
  {
   "cell_type": "code",
   "execution_count": 168,
   "metadata": {},
   "outputs": [
    {
     "data": {
      "text/plain": [
       "9"
      ]
     },
     "execution_count": 168,
     "metadata": {},
     "output_type": "execute_result"
    }
   ],
   "source": [
    "#this function counts how many times each item is in a list\n",
    "def same_birthday(bday_df):\n",
    "    count = 0\n",
    "    from collections import Counter\n",
    "    #creates a dictionary for each value with the corresponding count in the list\n",
    "    a = (Counter(bday_df))\n",
    "    \n",
    "    #looping through each value \n",
    "    for x in a:\n",
    "        #adds to count varialbe if count of item is greater than 1\n",
    "        if a[x] > 1:\n",
    "            count += a[x]\n",
    "            \n",
    "    #returns the count, which is how many times repeated items are repeated in the list\n",
    "    return count\n",
    "\n",
    "same_birthday([1,5,7,3,8,5,4,7,8,6,5,3,2])"
   ]
  },
  {
   "cell_type": "code",
   "execution_count": 195,
   "metadata": {},
   "outputs": [
    {
     "name": "stdout",
     "output_type": "stream",
     "text": [
      "The probability of at least two people sharing the same birthday in a room of 26 is: 0.50639\n"
     ]
    }
   ],
   "source": [
    "#how many times we will run the same simulation, the higher the more accurate\n",
    "n_simulations = nrows = 10**5\n",
    "#number of ppl in the room\n",
    "n_ppl = ncols = 23\n",
    "\n",
    "#choice is a day in the year\n",
    "choice = range(1,366)\n",
    "#choose a random number from day of year as range of number\n",
    "birthdays = np.random.choice(choice, nrows * ncols).reshape(nrows, ncols)\n",
    "\n",
    "#converts to data frame to apply function\n",
    "birthdays_df = pd.DataFrame(birthdays)\n",
    "\n",
    "#checks if the count is at least two, which would mean some people share the same birthday\n",
    "prob = birthdays_df.apply(lambda row: same_birthday(row) >= 2, axis=1).mean()\n",
    "print(\"The probability of at least two people sharing the same birthday in a room of 26 is:\",prob)"
   ]
  },
  {
   "cell_type": "code",
   "execution_count": 196,
   "metadata": {},
   "outputs": [
    {
     "name": "stdout",
     "output_type": "stream",
     "text": [
      "The probability of at least two people sharing the same birthday in a room of 20 is: 0.41021\n"
     ]
    }
   ],
   "source": [
    "#how many times we will run the same simulation, the higher the more accurate\n",
    "n_simulations = nrows = 10**5\n",
    "n_ppl = ncols = 20\n",
    "\n",
    "choice = range(1,366)\n",
    "birthdays = np.random.choice(choice, nrows * ncols).reshape(nrows, ncols)\n",
    "\n",
    "birthdays_df = pd.DataFrame(birthdays)\n",
    "prob = birthdays_df.apply(lambda row: same_birthday(row) >= 2, axis=1).mean()\n",
    "print(\"The probability of at least two people sharing the same birthday in a room of 20 is:\",prob)"
   ]
  },
  {
   "cell_type": "code",
   "execution_count": 198,
   "metadata": {},
   "outputs": [
    {
     "name": "stdout",
     "output_type": "stream",
     "text": [
      "The probability of at least two people sharing the same birthday in a room of 40 is: 0.88994\n"
     ]
    }
   ],
   "source": [
    "#how many times we will run the same simulation, the higher the more accurate\n",
    "n_simulations = nrows = 10**5\n",
    "n_ppl = ncols = 40\n",
    "\n",
    "choice = range(1,366)\n",
    "birthdays = np.random.choice(choice, nrows * ncols).reshape(nrows, ncols)\n",
    "\n",
    "birthdays_df = pd.DataFrame(birthdays)\n",
    "\n",
    "prob = birthdays_df.apply(lambda row: same_birthday(row) >= 2, axis=1).mean()\n",
    "print(\"The probability of at least two people sharing the same birthday in a room of 40 is:\",prob)"
   ]
  }
 ],
 "metadata": {
  "kernelspec": {
   "display_name": "Python 3",
   "language": "python",
   "name": "python3"
  },
  "language_info": {
   "codemirror_mode": {
    "name": "ipython",
    "version": 3
   },
   "file_extension": ".py",
   "mimetype": "text/x-python",
   "name": "python",
   "nbconvert_exporter": "python",
   "pygments_lexer": "ipython3",
   "version": "3.7.6"
  }
 },
 "nbformat": 4,
 "nbformat_minor": 4
}
