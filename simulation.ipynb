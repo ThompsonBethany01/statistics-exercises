{
 "cells": [
  {
   "cell_type": "code",
   "execution_count": 2,
   "metadata": {},
   "outputs": [],
   "source": [
    "import numpy as np\n",
    "import pandas as pd"
   ]
  },
  {
   "cell_type": "markdown",
   "metadata": {},
   "source": [
    "# 1. How likely is it that you roll doubles when rolling two dice?"
   ]
  },
  {
   "cell_type": "code",
   "execution_count": 65,
   "metadata": {},
   "outputs": [
    {
     "name": "stdout",
     "output_type": "stream",
     "text": [
      "       0  1\n",
      "0      4  2\n",
      "1      6  6\n",
      "2      6  1\n",
      "3      2  5\n",
      "4      6  3\n",
      "...   .. ..\n",
      "99995  5  2\n",
      "99996  1  1\n",
      "99997  6  4\n",
      "99998  3  5\n",
      "99999  6  2\n",
      "\n",
      "[100000 rows x 2 columns]\n",
      "0.16907\n"
     ]
    }
   ],
   "source": [
    "n_simulations = nrows = 10**5\n",
    "n_dice_rolled = ncols = 2\n",
    "\n",
    "choice = [1,2,3,4,5,6]\n",
    "rolls = np.random.choice(choice, nrows * ncols).reshape(nrows, ncols)\n",
    "\n",
    "rolls_df = pd.DataFrame(rolls)\n",
    "print(rolls_df.apply(lambda row: row[0] == row[1], axis=1).mean())"
   ]
  },
  {
   "cell_type": "markdown",
   "metadata": {},
   "source": [
    "# 2. If you flip 8 coins, what is the probability of getting exactly 3 heads? What is the probability of getting more than 3 heads?"
   ]
  },
  {
   "cell_type": "code",
   "execution_count": 32,
   "metadata": {},
   "outputs": [],
   "source": [
    "def count_heads(flip_list):\n",
    "    count = 0\n",
    "    for coin in flip_list:\n",
    "        if coin == 'Heads':\n",
    "            count += 1\n",
    "    return count"
   ]
  },
  {
   "cell_type": "code",
   "execution_count": 118,
   "metadata": {},
   "outputs": [
    {
     "name": "stdout",
     "output_type": "stream",
     "text": [
      "0.22051\n"
     ]
    }
   ],
   "source": [
    "n_simulations = nrows = 10**5\n",
    "n_coin_flipped = ncols = 8\n",
    "\n",
    "choice = ['Tails','Heads']\n",
    "flips = np.random.choice(choice, nrows * ncols).reshape(nrows, ncols)\n",
    "\n",
    "flips_df = pd.DataFrame(flips)\n",
    "print(flips_df.apply(lambda row: count_heads(row) == 3, axis=1).mean())"
   ]
  },
  {
   "cell_type": "code",
   "execution_count": 36,
   "metadata": {},
   "outputs": [
    {
     "name": "stdout",
     "output_type": "stream",
     "text": [
      "0.8557\n"
     ]
    }
   ],
   "source": [
    "print(flips_df.apply(lambda row: count_heads(row) >= 3, axis=1).mean())"
   ]
  },
  {
   "cell_type": "markdown",
   "metadata": {},
   "source": [
    "# 3. There are approximitely 3 web development cohorts for every 1 data science cohort at Codeup. Assuming that Codeup randomly selects an alumni to put on a billboard, what are the odds that the two billboards I drive past both have data science students on them?"
   ]
  },
  {
   "cell_type": "code",
   "execution_count": 86,
   "metadata": {},
   "outputs": [
    {
     "name": "stdout",
     "output_type": "stream",
     "text": [
      "0.06223\n"
     ]
    }
   ],
   "source": [
    "n_simulations = nrows = 10**5\n",
    "n_billboards = ncols = 2\n",
    "\n",
    "choice = [\"Web Dev\",\"Data Science\"]\n",
    "billboards = np.random.choice(choice, nrows * ncols, p = [.75,.25]).reshape(nrows, ncols)\n",
    "\n",
    "billboards_df = pd.DataFrame(billboards)\n",
    "print(billboards_df.apply(lambda row: row[0] == row[1] == 'Data Science', axis=1).mean())"
   ]
  },
  {
   "cell_type": "markdown",
   "metadata": {},
   "source": [
    "# 4. Codeup students buy, on average, 3 poptart packages (+- 1.5) a day from the snack vending machine. If on monday the machine is restocked with 17 poptart packages, how likely is it that I will be able to buy some poptarts on Friday afternoon?"
   ]
  },
  {
   "cell_type": "code",
   "execution_count": 83,
   "metadata": {},
   "outputs": [
    {
     "name": "stdout",
     "output_type": "stream",
     "text": [
      "0.78776\n"
     ]
    }
   ],
   "source": [
    "n_simulations = nrows1 = 10**5\n",
    "n_poptarts = ncols2 = 1\n",
    "\n",
    "choices = np.random.uniform(1.5,4.5, nrows1 * ncols2)\n",
    "choices = np.around(choices, 0)\n",
    "\n",
    "n_simulations = nrows = 10**5\n",
    "n_days = ncols = 5\n",
    "\n",
    "weekly_poptarts = np.random.choice(choices, nrows * ncols).reshape(nrows, ncols)\n",
    "weekly_poptarts_df = pd.DataFrame(weekly_poptarts)\n",
    "\n",
    "print(weekly_poptarts_df.apply(lambda row: sum(row) <= 16, axis=1).mean())"
   ]
  },
  {
   "cell_type": "markdown",
   "metadata": {},
   "source": [
    "# 5. Compare Heights\n",
    "Men have an average height of 178 cm and standard deviation of 8cm.\n",
    "Women have a mean of 170, sd = 6cm."
   ]
  },
  {
   "cell_type": "markdown",
   "metadata": {},
   "source": [
    "### If a man and woman are chosen at random, P(woman taller than man)?"
   ]
  },
  {
   "cell_type": "code",
   "execution_count": 140,
   "metadata": {},
   "outputs": [
    {
     "name": "stdout",
     "output_type": "stream",
     "text": [
      "                0           1\n",
      "0      183.614465  163.774341\n",
      "1      182.877985  165.600899\n",
      "2      172.897103  172.187587\n",
      "3      174.628136  162.941379\n",
      "4      169.597895  164.761635\n",
      "...           ...         ...\n",
      "99995  179.427062  171.337843\n",
      "99996  184.065272  177.107839\n",
      "99997  178.028966  171.838023\n",
      "99998  184.890653  166.215708\n",
      "99999  177.730428  169.767124\n",
      "\n",
      "[100000 rows x 2 columns]\n"
     ]
    }
   ],
   "source": [
    "n_simulations = nrows = 10**5\n",
    "n_people = ncols = 1\n",
    "\n",
    "men = np.random.normal(178,8, nrows * ncols)\n",
    "women = np.random.normal(170,6, nrows * ncols)\n",
    "\n",
    "men_df = pd.DataFrame(men)\n",
    "women_df = pd.DataFrame(women)\n",
    "\n",
    "both = pd.concat([men_df, women_df], ignore_index = True, axis=1)\n",
    "print(both)\n",
    "#print(both.apply(lambda row: row[0] == row[1], axis=1).mean())"
   ]
  },
  {
   "cell_type": "markdown",
   "metadata": {},
   "source": [
    "# 6. When installing anaconda on a student's computer, there's a 1 in 250 chance that the download is corrupted and the installation fails. What are the odds that after having 50 students download anaconda, no one has an installation issue? "
   ]
  },
  {
   "cell_type": "code",
   "execution_count": 112,
   "metadata": {},
   "outputs": [
    {
     "name": "stdout",
     "output_type": "stream",
     "text": [
      "0.82008\n"
     ]
    }
   ],
   "source": [
    "n_simulations = nrows = 10**5\n",
    "n_downloads = ncols = 50\n",
    "\n",
    "#0 not corrupt, 1 is corrupt\n",
    "choice = [0, 1]\n",
    "corruption = np.random.choice(choice, nrows * ncols, p = [.996,.004]).reshape(nrows, ncols)\n",
    "\n",
    "corruption_df = pd.DataFrame(corruption)\n",
    "\n",
    "print(corruption_df.apply(lambda row: sum(row) == 0, axis=1).mean())"
   ]
  },
  {
   "cell_type": "markdown",
   "metadata": {},
   "source": [
    "### 100 students?"
   ]
  },
  {
   "cell_type": "code",
   "execution_count": 113,
   "metadata": {},
   "outputs": [
    {
     "name": "stdout",
     "output_type": "stream",
     "text": [
      "0.66964\n"
     ]
    }
   ],
   "source": [
    "n_simulations = nrows = 10**5\n",
    "n_downloads = ncols = 100\n",
    "\n",
    "#0 not corrupt, 1 is corrupt\n",
    "choice = [0, 1]\n",
    "corruption = np.random.choice(choice, nrows * ncols, p = [.996,.004]).reshape(nrows, ncols)\n",
    "\n",
    "corruption_df = pd.DataFrame(corruption)\n",
    "\n",
    "print(corruption_df.apply(lambda row: sum(row) == 0, axis=1).mean())"
   ]
  },
  {
   "cell_type": "markdown",
   "metadata": {},
   "source": [
    "### What is the probability that we observe an installation issue within the first 150 students that download anaconda?"
   ]
  },
  {
   "cell_type": "code",
   "execution_count": 114,
   "metadata": {},
   "outputs": [
    {
     "name": "stdout",
     "output_type": "stream",
     "text": [
      "0.44949\n"
     ]
    }
   ],
   "source": [
    "n_simulations = nrows = 10**5\n",
    "n_downloads = ncols = 150\n",
    "\n",
    "#0 not corrupt, 1 is corrupt\n",
    "choice = [0, 1]\n",
    "corruption = np.random.choice(choice, nrows * ncols, p = [.996,.004]).reshape(nrows, ncols)\n",
    "\n",
    "corruption_df = pd.DataFrame(corruption)\n",
    "\n",
    "print(corruption_df.apply(lambda row: sum(row) >= 1, axis=1).mean())"
   ]
  },
  {
   "cell_type": "markdown",
   "metadata": {},
   "source": [
    "### How likely is it that 450 students all download anaconda without an issue?"
   ]
  },
  {
   "cell_type": "code",
   "execution_count": 115,
   "metadata": {},
   "outputs": [
    {
     "name": "stdout",
     "output_type": "stream",
     "text": [
      "0.16681\n"
     ]
    }
   ],
   "source": [
    "n_simulations = nrows = 10**5\n",
    "n_downloads = ncols = 450\n",
    "\n",
    "#0 not corrupt, 1 is corrupt\n",
    "choice = [0, 1]\n",
    "corruption = np.random.choice(choice, nrows * ncols, p = [.996,.004]).reshape(nrows, ncols)\n",
    "\n",
    "corruption_df = pd.DataFrame(corruption)\n",
    "\n",
    "print(corruption_df.apply(lambda row: sum(row) == 0, axis=1).mean())"
   ]
  },
  {
   "cell_type": "markdown",
   "metadata": {},
   "source": [
    "# 7. There's a 70% chance on any given day that there will be at least one food truck at Travis Park. However, you haven't seen a food truck there in 3 days. How unlikely is this?"
   ]
  },
  {
   "cell_type": "code",
   "execution_count": 116,
   "metadata": {},
   "outputs": [
    {
     "name": "stdout",
     "output_type": "stream",
     "text": [
      "0.02754\n"
     ]
    }
   ],
   "source": [
    "n_simulations = nrows = 10**5\n",
    "n_days = ncols = 3\n",
    "\n",
    "#0 no food truck, 1 is food truck\n",
    "choice = [0, 1]\n",
    "foodtruck = np.random.choice(choice, nrows * ncols, p = [.3,.7]).reshape(nrows, ncols)\n",
    "\n",
    "foodtruck_df = pd.DataFrame(foodtruck)\n",
    "\n",
    "print(foodtruck_df.apply(lambda row: sum(row) == 0, axis=1).mean())"
   ]
  },
  {
   "cell_type": "markdown",
   "metadata": {},
   "source": [
    "### How likely is it that a food truck will show up sometime this week?"
   ]
  },
  {
   "cell_type": "code",
   "execution_count": 117,
   "metadata": {},
   "outputs": [
    {
     "name": "stdout",
     "output_type": "stream",
     "text": [
      "0.99982\n"
     ]
    }
   ],
   "source": [
    "n_simulations = nrows = 10**5\n",
    "n_days = ncols = 7\n",
    "\n",
    "#0 no food truck, 1 is food truck\n",
    "choice = [0, 1]\n",
    "foodtruck = np.random.choice(choice, nrows * ncols, p = [.3,.7]).reshape(nrows, ncols)\n",
    "\n",
    "foodtruck_df = pd.DataFrame(foodtruck)\n",
    "\n",
    "print(foodtruck_df.apply(lambda row: sum(row) >= 1, axis=1).mean())"
   ]
  },
  {
   "cell_type": "markdown",
   "metadata": {},
   "source": [
    "# 8. If 23 people are in the same room, what are the odds that two of them share a birthday? What if it's 20 people? 40?"
   ]
  },
  {
   "cell_type": "code",
   "execution_count": 92,
   "metadata": {},
   "outputs": [],
   "source": [
    "def same_birthday(bday_df):\n",
    "\n",
    "    for x in bday_df:\n",
    "        if bday_df.count('x') > 1:\n",
    "            \n",
    "    return count"
   ]
  },
  {
   "cell_type": "code",
   "execution_count": 99,
   "metadata": {},
   "outputs": [
    {
     "data": {
      "text/html": [
       "<div>\n",
       "<style scoped>\n",
       "    .dataframe tbody tr th:only-of-type {\n",
       "        vertical-align: middle;\n",
       "    }\n",
       "\n",
       "    .dataframe tbody tr th {\n",
       "        vertical-align: top;\n",
       "    }\n",
       "\n",
       "    .dataframe thead th {\n",
       "        text-align: right;\n",
       "    }\n",
       "</style>\n",
       "<table border=\"1\" class=\"dataframe\">\n",
       "  <thead>\n",
       "    <tr style=\"text-align: right;\">\n",
       "      <th></th>\n",
       "      <th>0</th>\n",
       "      <th>1</th>\n",
       "      <th>2</th>\n",
       "      <th>3</th>\n",
       "      <th>4</th>\n",
       "      <th>5</th>\n",
       "      <th>6</th>\n",
       "      <th>7</th>\n",
       "      <th>8</th>\n",
       "      <th>9</th>\n",
       "      <th>...</th>\n",
       "      <th>13</th>\n",
       "      <th>14</th>\n",
       "      <th>15</th>\n",
       "      <th>16</th>\n",
       "      <th>17</th>\n",
       "      <th>18</th>\n",
       "      <th>19</th>\n",
       "      <th>20</th>\n",
       "      <th>21</th>\n",
       "      <th>22</th>\n",
       "    </tr>\n",
       "  </thead>\n",
       "  <tbody>\n",
       "    <tr>\n",
       "      <th>0</th>\n",
       "      <td>198</td>\n",
       "      <td>70</td>\n",
       "      <td>13</td>\n",
       "      <td>307</td>\n",
       "      <td>267</td>\n",
       "      <td>217</td>\n",
       "      <td>12</td>\n",
       "      <td>124</td>\n",
       "      <td>215</td>\n",
       "      <td>168</td>\n",
       "      <td>...</td>\n",
       "      <td>278</td>\n",
       "      <td>186</td>\n",
       "      <td>71</td>\n",
       "      <td>56</td>\n",
       "      <td>123</td>\n",
       "      <td>153</td>\n",
       "      <td>214</td>\n",
       "      <td>178</td>\n",
       "      <td>141</td>\n",
       "      <td>9</td>\n",
       "    </tr>\n",
       "    <tr>\n",
       "      <th>1</th>\n",
       "      <td>333</td>\n",
       "      <td>105</td>\n",
       "      <td>98</td>\n",
       "      <td>355</td>\n",
       "      <td>288</td>\n",
       "      <td>251</td>\n",
       "      <td>203</td>\n",
       "      <td>163</td>\n",
       "      <td>280</td>\n",
       "      <td>29</td>\n",
       "      <td>...</td>\n",
       "      <td>360</td>\n",
       "      <td>92</td>\n",
       "      <td>12</td>\n",
       "      <td>299</td>\n",
       "      <td>260</td>\n",
       "      <td>184</td>\n",
       "      <td>282</td>\n",
       "      <td>252</td>\n",
       "      <td>180</td>\n",
       "      <td>257</td>\n",
       "    </tr>\n",
       "    <tr>\n",
       "      <th>2</th>\n",
       "      <td>221</td>\n",
       "      <td>118</td>\n",
       "      <td>54</td>\n",
       "      <td>19</td>\n",
       "      <td>259</td>\n",
       "      <td>81</td>\n",
       "      <td>206</td>\n",
       "      <td>283</td>\n",
       "      <td>24</td>\n",
       "      <td>350</td>\n",
       "      <td>...</td>\n",
       "      <td>25</td>\n",
       "      <td>86</td>\n",
       "      <td>18</td>\n",
       "      <td>106</td>\n",
       "      <td>21</td>\n",
       "      <td>128</td>\n",
       "      <td>32</td>\n",
       "      <td>343</td>\n",
       "      <td>320</td>\n",
       "      <td>349</td>\n",
       "    </tr>\n",
       "    <tr>\n",
       "      <th>3</th>\n",
       "      <td>136</td>\n",
       "      <td>248</td>\n",
       "      <td>101</td>\n",
       "      <td>224</td>\n",
       "      <td>170</td>\n",
       "      <td>317</td>\n",
       "      <td>167</td>\n",
       "      <td>298</td>\n",
       "      <td>240</td>\n",
       "      <td>83</td>\n",
       "      <td>...</td>\n",
       "      <td>345</td>\n",
       "      <td>200</td>\n",
       "      <td>207</td>\n",
       "      <td>291</td>\n",
       "      <td>2</td>\n",
       "      <td>165</td>\n",
       "      <td>19</td>\n",
       "      <td>356</td>\n",
       "      <td>279</td>\n",
       "      <td>356</td>\n",
       "    </tr>\n",
       "    <tr>\n",
       "      <th>4</th>\n",
       "      <td>284</td>\n",
       "      <td>108</td>\n",
       "      <td>60</td>\n",
       "      <td>307</td>\n",
       "      <td>292</td>\n",
       "      <td>337</td>\n",
       "      <td>328</td>\n",
       "      <td>280</td>\n",
       "      <td>156</td>\n",
       "      <td>37</td>\n",
       "      <td>...</td>\n",
       "      <td>331</td>\n",
       "      <td>69</td>\n",
       "      <td>146</td>\n",
       "      <td>11</td>\n",
       "      <td>216</td>\n",
       "      <td>56</td>\n",
       "      <td>249</td>\n",
       "      <td>356</td>\n",
       "      <td>111</td>\n",
       "      <td>142</td>\n",
       "    </tr>\n",
       "    <tr>\n",
       "      <th>...</th>\n",
       "      <td>...</td>\n",
       "      <td>...</td>\n",
       "      <td>...</td>\n",
       "      <td>...</td>\n",
       "      <td>...</td>\n",
       "      <td>...</td>\n",
       "      <td>...</td>\n",
       "      <td>...</td>\n",
       "      <td>...</td>\n",
       "      <td>...</td>\n",
       "      <td>...</td>\n",
       "      <td>...</td>\n",
       "      <td>...</td>\n",
       "      <td>...</td>\n",
       "      <td>...</td>\n",
       "      <td>...</td>\n",
       "      <td>...</td>\n",
       "      <td>...</td>\n",
       "      <td>...</td>\n",
       "      <td>...</td>\n",
       "      <td>...</td>\n",
       "    </tr>\n",
       "    <tr>\n",
       "      <th>99995</th>\n",
       "      <td>244</td>\n",
       "      <td>208</td>\n",
       "      <td>239</td>\n",
       "      <td>285</td>\n",
       "      <td>147</td>\n",
       "      <td>124</td>\n",
       "      <td>246</td>\n",
       "      <td>149</td>\n",
       "      <td>11</td>\n",
       "      <td>241</td>\n",
       "      <td>...</td>\n",
       "      <td>303</td>\n",
       "      <td>104</td>\n",
       "      <td>286</td>\n",
       "      <td>102</td>\n",
       "      <td>104</td>\n",
       "      <td>57</td>\n",
       "      <td>340</td>\n",
       "      <td>289</td>\n",
       "      <td>75</td>\n",
       "      <td>113</td>\n",
       "    </tr>\n",
       "    <tr>\n",
       "      <th>99996</th>\n",
       "      <td>149</td>\n",
       "      <td>297</td>\n",
       "      <td>271</td>\n",
       "      <td>139</td>\n",
       "      <td>88</td>\n",
       "      <td>280</td>\n",
       "      <td>72</td>\n",
       "      <td>21</td>\n",
       "      <td>162</td>\n",
       "      <td>349</td>\n",
       "      <td>...</td>\n",
       "      <td>230</td>\n",
       "      <td>147</td>\n",
       "      <td>355</td>\n",
       "      <td>184</td>\n",
       "      <td>149</td>\n",
       "      <td>5</td>\n",
       "      <td>64</td>\n",
       "      <td>125</td>\n",
       "      <td>109</td>\n",
       "      <td>336</td>\n",
       "    </tr>\n",
       "    <tr>\n",
       "      <th>99997</th>\n",
       "      <td>273</td>\n",
       "      <td>71</td>\n",
       "      <td>318</td>\n",
       "      <td>1</td>\n",
       "      <td>231</td>\n",
       "      <td>244</td>\n",
       "      <td>190</td>\n",
       "      <td>318</td>\n",
       "      <td>97</td>\n",
       "      <td>224</td>\n",
       "      <td>...</td>\n",
       "      <td>120</td>\n",
       "      <td>346</td>\n",
       "      <td>80</td>\n",
       "      <td>134</td>\n",
       "      <td>73</td>\n",
       "      <td>114</td>\n",
       "      <td>21</td>\n",
       "      <td>123</td>\n",
       "      <td>210</td>\n",
       "      <td>354</td>\n",
       "    </tr>\n",
       "    <tr>\n",
       "      <th>99998</th>\n",
       "      <td>52</td>\n",
       "      <td>320</td>\n",
       "      <td>36</td>\n",
       "      <td>229</td>\n",
       "      <td>314</td>\n",
       "      <td>209</td>\n",
       "      <td>175</td>\n",
       "      <td>348</td>\n",
       "      <td>242</td>\n",
       "      <td>75</td>\n",
       "      <td>...</td>\n",
       "      <td>350</td>\n",
       "      <td>33</td>\n",
       "      <td>249</td>\n",
       "      <td>304</td>\n",
       "      <td>15</td>\n",
       "      <td>230</td>\n",
       "      <td>160</td>\n",
       "      <td>268</td>\n",
       "      <td>152</td>\n",
       "      <td>31</td>\n",
       "    </tr>\n",
       "    <tr>\n",
       "      <th>99999</th>\n",
       "      <td>310</td>\n",
       "      <td>312</td>\n",
       "      <td>182</td>\n",
       "      <td>105</td>\n",
       "      <td>156</td>\n",
       "      <td>100</td>\n",
       "      <td>11</td>\n",
       "      <td>121</td>\n",
       "      <td>288</td>\n",
       "      <td>303</td>\n",
       "      <td>...</td>\n",
       "      <td>296</td>\n",
       "      <td>300</td>\n",
       "      <td>55</td>\n",
       "      <td>208</td>\n",
       "      <td>144</td>\n",
       "      <td>41</td>\n",
       "      <td>122</td>\n",
       "      <td>193</td>\n",
       "      <td>126</td>\n",
       "      <td>147</td>\n",
       "    </tr>\n",
       "  </tbody>\n",
       "</table>\n",
       "<p>100000 rows × 23 columns</p>\n",
       "</div>"
      ],
      "text/plain": [
       "        0    1    2    3    4    5    6    7    8    9   ...   13   14   15  \\\n",
       "0      198   70   13  307  267  217   12  124  215  168  ...  278  186   71   \n",
       "1      333  105   98  355  288  251  203  163  280   29  ...  360   92   12   \n",
       "2      221  118   54   19  259   81  206  283   24  350  ...   25   86   18   \n",
       "3      136  248  101  224  170  317  167  298  240   83  ...  345  200  207   \n",
       "4      284  108   60  307  292  337  328  280  156   37  ...  331   69  146   \n",
       "...    ...  ...  ...  ...  ...  ...  ...  ...  ...  ...  ...  ...  ...  ...   \n",
       "99995  244  208  239  285  147  124  246  149   11  241  ...  303  104  286   \n",
       "99996  149  297  271  139   88  280   72   21  162  349  ...  230  147  355   \n",
       "99997  273   71  318    1  231  244  190  318   97  224  ...  120  346   80   \n",
       "99998   52  320   36  229  314  209  175  348  242   75  ...  350   33  249   \n",
       "99999  310  312  182  105  156  100   11  121  288  303  ...  296  300   55   \n",
       "\n",
       "        16   17   18   19   20   21   22  \n",
       "0       56  123  153  214  178  141    9  \n",
       "1      299  260  184  282  252  180  257  \n",
       "2      106   21  128   32  343  320  349  \n",
       "3      291    2  165   19  356  279  356  \n",
       "4       11  216   56  249  356  111  142  \n",
       "...    ...  ...  ...  ...  ...  ...  ...  \n",
       "99995  102  104   57  340  289   75  113  \n",
       "99996  184  149    5   64  125  109  336  \n",
       "99997  134   73  114   21  123  210  354  \n",
       "99998  304   15  230  160  268  152   31  \n",
       "99999  208  144   41  122  193  126  147  \n",
       "\n",
       "[100000 rows x 23 columns]"
      ]
     },
     "execution_count": 99,
     "metadata": {},
     "output_type": "execute_result"
    }
   ],
   "source": [
    "n_simulations = nrows = 10**5\n",
    "n_ppl = ncols = 23\n",
    "\n",
    "birth_days = np.random.randint(1,366, nrows * ncols).reshape(nrows, ncols)\n",
    "birth_days_df = pd.DataFrame(birth_days)\n",
    "\n",
    "birth_days_df.value_counts()"
   ]
  }
 ],
 "metadata": {
  "kernelspec": {
   "display_name": "Python 3",
   "language": "python",
   "name": "python3"
  },
  "language_info": {
   "codemirror_mode": {
    "name": "ipython",
    "version": 3
   },
   "file_extension": ".py",
   "mimetype": "text/x-python",
   "name": "python",
   "nbconvert_exporter": "python",
   "pygments_lexer": "ipython3",
   "version": "3.7.6"
  }
 },
 "nbformat": 4,
 "nbformat_minor": 4
}
