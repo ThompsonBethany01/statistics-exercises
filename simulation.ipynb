{
 "cells": [
  {
   "cell_type": "code",
   "execution_count": 2,
   "metadata": {},
   "outputs": [],
   "source": [
    "import numpy as np\n",
    "import pandas as pd"
   ]
  },
  {
   "cell_type": "markdown",
   "metadata": {},
   "source": [
    "### How likely is it that you roll doubles when rolling two dice?"
   ]
  },
  {
   "cell_type": "code",
   "execution_count": 65,
   "metadata": {},
   "outputs": [
    {
     "name": "stdout",
     "output_type": "stream",
     "text": [
      "       0  1\n",
      "0      4  2\n",
      "1      6  6\n",
      "2      6  1\n",
      "3      2  5\n",
      "4      6  3\n",
      "...   .. ..\n",
      "99995  5  2\n",
      "99996  1  1\n",
      "99997  6  4\n",
      "99998  3  5\n",
      "99999  6  2\n",
      "\n",
      "[100000 rows x 2 columns]\n",
      "0.16907\n"
     ]
    }
   ],
   "source": [
    "n_simulations = nrows = 10**5\n",
    "n_dice_rolled = ncols = 2\n",
    "\n",
    "choice = [1,2,3,4,5,6]\n",
    "rolls = np.random.choice(choice, nrows * ncols).reshape(nrows, ncols)\n",
    "\n",
    "rolls_df = pd.DataFrame(rolls)\n",
    "print(rolls_df.apply(lambda row: row[0] == row[1], axis=1).mean())"
   ]
  },
  {
   "cell_type": "markdown",
   "metadata": {},
   "source": [
    "### If you flip 8 coins, what is the probability of getting exactly 3 heads? What is the probability of getting more than 3 heads?"
   ]
  },
  {
   "cell_type": "code",
   "execution_count": 32,
   "metadata": {},
   "outputs": [],
   "source": [
    "def count_heads(flip_list):\n",
    "    count = 0\n",
    "    for coin in flip_list:\n",
    "        if coin == 'Heads':\n",
    "            count += 1\n",
    "    return count"
   ]
  },
  {
   "cell_type": "code",
   "execution_count": 66,
   "metadata": {},
   "outputs": [
    {
     "name": "stdout",
     "output_type": "stream",
     "text": [
      "           0      1      2      3      4      5      6      7\n",
      "0      Tails  Tails  Heads  Tails  Tails  Heads  Heads  Heads\n",
      "1      Heads  Tails  Tails  Heads  Tails  Tails  Heads  Tails\n",
      "2      Heads  Tails  Heads  Heads  Heads  Tails  Heads  Tails\n",
      "3      Tails  Heads  Tails  Tails  Heads  Heads  Tails  Heads\n",
      "4      Heads  Tails  Tails  Tails  Tails  Heads  Heads  Tails\n",
      "...      ...    ...    ...    ...    ...    ...    ...    ...\n",
      "99995  Heads  Heads  Heads  Tails  Tails  Tails  Heads  Tails\n",
      "99996  Heads  Tails  Tails  Heads  Heads  Heads  Tails  Tails\n",
      "99997  Tails  Heads  Heads  Tails  Heads  Heads  Tails  Heads\n",
      "99998  Heads  Tails  Heads  Tails  Heads  Heads  Heads  Heads\n",
      "99999  Tails  Tails  Tails  Tails  Tails  Tails  Heads  Tails\n",
      "\n",
      "[100000 rows x 8 columns]\n",
      "0.21831\n"
     ]
    }
   ],
   "source": [
    "n_simulations = nrows = 10**5\n",
    "n_coin_flipped = ncols = 8\n",
    "\n",
    "choice = ['Tails','Heads']\n",
    "flips = np.random.choice(choice, nrows * ncols).reshape(nrows, ncols)\n",
    "\n",
    "flips_df = pd.DataFrame(flips)\n",
    "print(flips_df.apply(lambda row: count_heads(row) == 3, axis=1).mean())"
   ]
  },
  {
   "cell_type": "code",
   "execution_count": 36,
   "metadata": {},
   "outputs": [
    {
     "name": "stdout",
     "output_type": "stream",
     "text": [
      "0.8557\n"
     ]
    }
   ],
   "source": [
    "print(flips_df.apply(lambda row: count_heads(row) >= 3, axis=1).mean())"
   ]
  },
  {
   "cell_type": "markdown",
   "metadata": {},
   "source": [
    "### There are approximitely 3 web development cohorts for every 1 data science cohort at Codeup. Assuming that Codeup randomly selects an alumni to put on a billboard, what are the odds that the two billboards I drive past both have data science students on them?"
   ]
  },
  {
   "cell_type": "code",
   "execution_count": 82,
   "metadata": {},
   "outputs": [
    {
     "name": "stdout",
     "output_type": "stream",
     "text": [
      "[['Web Dev' 'Data Science']\n",
      " ['Web Dev' 'Data Science']\n",
      " ['Web Dev' 'Web Dev']\n",
      " ...\n",
      " ['Web Dev' 'Web Dev']\n",
      " ['Web Dev' 'Web Dev']\n",
      " ['Web Dev' 'Web Dev']]\n",
      "0.06227\n"
     ]
    }
   ],
   "source": [
    "n_simulations = nrows = 10**5\n",
    "n_billboards = ncols = 2\n",
    "\n",
    "choice = [\"Web Dev\",\"Data Science\"]\n",
    "billboards = np.random.choice(choice, nrows * ncols, p = [.75,.25]).reshape(nrows, ncols)\n",
    "\n",
    "billboards_df = pd.DataFrame(billboards)\n",
    "print(billboards_df.apply(lambda row: row[0] == row[1] == 'Data Science', axis=1).mean())"
   ]
  },
  {
   "cell_type": "markdown",
   "metadata": {},
   "source": [
    "### Codeup students buy, on average, 3 poptart packages (+- 1.5) a day from the snack vending machine. If on monday the machine is restocked with 17 poptart packages, how likely is it that I will be able to buy some poptarts on Friday afternoon?"
   ]
  },
  {
   "cell_type": "code",
   "execution_count": 83,
   "metadata": {},
   "outputs": [
    {
     "name": "stdout",
     "output_type": "stream",
     "text": [
      "0.78776\n"
     ]
    }
   ],
   "source": [
    "n_simulations = nrows1 = 10**5\n",
    "n_poptarts = ncols2 = 1\n",
    "\n",
    "choices = np.random.uniform(1.5,4.5, nrows1 * ncols2)\n",
    "choices = np.around(choices, 0)\n",
    "\n",
    "n_simulations = nrows = 10**5\n",
    "n_days = ncols = 5\n",
    "\n",
    "weekly_poptarts = np.random.choice(choices, nrows * ncols).reshape(nrows, ncols)\n",
    "weekly_poptarts_df = pd.DataFrame(weekly_poptarts)\n",
    "\n",
    "print(weekly_poptarts_df.apply(lambda row: sum(row) <= 16, axis=1).mean())"
   ]
  },
  {
   "cell_type": "markdown",
   "metadata": {},
   "source": [
    "## Compare Heights\n",
    "Men have an average height of 178 cm and standard deviation of 8cm.\n",
    "Women have a mean of 170, sd = 6cm."
   ]
  },
  {
   "cell_type": "markdown",
   "metadata": {},
   "source": [
    "### If a man and woman are chosen at random, P(woman taller than man)?"
   ]
  },
  {
   "cell_type": "code",
   "execution_count": 85,
   "metadata": {},
   "outputs": [
    {
     "name": "stdout",
     "output_type": "stream",
     "text": [
      "[180.86264677 172.03180219 185.85853767 ... 188.07087437 171.68447369\n",
      " 172.93402128]\n",
      "[163.74472709 162.61514329 176.66806753 ... 158.36287467 175.140453\n",
      " 170.896302  ]\n"
     ]
    }
   ],
   "source": [
    "n_simulations = nrows1 = 10**5\n",
    "n_people = ncols2 = 1\n",
    "\n",
    "men = np.random.normal(178,8, nrows * ncols)\n",
    "women = np.random.normal(170,6, nrows * ncols)\n",
    "\n",
    "print(men)\n",
    "print(women)"
   ]
  },
  {
   "cell_type": "markdown",
   "metadata": {},
   "source": [
    "### When installing anaconda on a student's computer, there's a 1 in 250 chance that the download is corrupted and the installation fails."
   ]
  },
  {
   "cell_type": "markdown",
   "metadata": {},
   "source": [
    "### What are the odds that after having 50 students download anaconda, no one has an installation issue? 100 students?"
   ]
  },
  {
   "cell_type": "markdown",
   "metadata": {},
   "source": [
    "### What is the probability that we observe an installation issue within the first 150 students that download anaconda?"
   ]
  },
  {
   "cell_type": "markdown",
   "metadata": {},
   "source": [
    "### How likely is it that 450 students all download anaconda without an issue?"
   ]
  },
  {
   "cell_type": "markdown",
   "metadata": {},
   "source": [
    "### There's a 70% chance on any given day that there will be at least one food truck at Travis Park. However, you haven't seen a food truck there in 3 days. How unlikely is this?"
   ]
  },
  {
   "cell_type": "markdown",
   "metadata": {},
   "source": [
    "### How likely is it that a food truck will show up sometime this week?"
   ]
  },
  {
   "cell_type": "markdown",
   "metadata": {},
   "source": [
    "### If 23 people are in the same room, what are the odds that two of them share a birthday? What if it's 20 people? 40?"
   ]
  }
 ],
 "metadata": {
  "kernelspec": {
   "display_name": "Python 3",
   "language": "python",
   "name": "python3"
  },
  "language_info": {
   "codemirror_mode": {
    "name": "ipython",
    "version": 3
   },
   "file_extension": ".py",
   "mimetype": "text/x-python",
   "name": "python",
   "nbconvert_exporter": "python",
   "pygments_lexer": "ipython3",
   "version": "3.7.6"
  }
 },
 "nbformat": 4,
 "nbformat_minor": 4
}
