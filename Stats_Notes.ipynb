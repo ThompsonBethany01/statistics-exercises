{
 "cells": [
  {
   "cell_type": "code",
   "execution_count": 1,
   "metadata": {},
   "outputs": [],
   "source": [
    "import matplotlib.pyplot as plt\n",
    "import numpy as np\n",
    "from scipy import stats"
   ]
  },
  {
   "cell_type": "code",
   "execution_count": 58,
   "metadata": {},
   "outputs": [
    {
     "data": {
      "text/plain": [
       "Text(0.5, 1.0, 'Outcome of 10000 Dice Rolls')"
      ]
     },
     "execution_count": 58,
     "metadata": {},
     "output_type": "execute_result"
    },
    {
     "data": {
      "image/png": "[encoded data removed]",
      "text/plain": [
       "<Figure size 432x288 with 1 Axes>"
      ]
     },
     "metadata": {
      "needs_background": "light"
     },
     "output_type": "display_data"
    }
   ],
   "source": [
    "x = stats.randint(1,7).rvs((10000))\n",
    "\n",
    "plt.hist(x, bins=range(0, 9), align='left', width=1, edgecolor='black')\n",
    "plt.title(f'Outcome of 10000 Dice Rolls')"
   ]
  },
  {
   "cell_type": "code",
   "execution_count": 89,
   "metadata": {},
   "outputs": [
    {
     "data": {
      "text/plain": [
       "(array([0.000e+00, 4.000e+00, 1.500e+01, 7.000e+01, 2.010e+02, 4.840e+02,\n",
       "        8.360e+02, 1.182e+03, 1.501e+03, 1.529e+03, 1.432e+03, 1.105e+03,\n",
       "        7.800e+02, 4.440e+02, 2.440e+02, 1.000e+02, 4.800e+01, 2.100e+01,\n",
       "        2.000e+00, 1.000e+00, 1.000e+00, 0.000e+00, 0.000e+00, 0.000e+00,\n",
       "        0.000e+00, 0.000e+00, 0.000e+00, 0.000e+00, 0.000e+00]),\n",
       " array([ 0,  1,  2,  3,  4,  5,  6,  7,  8,  9, 10, 11, 12, 13, 14, 15, 16,\n",
       "        17, 18, 19, 20, 21, 22, 23, 24, 25, 26, 27, 28, 29]),\n",
       " <a list of 29 Patch objects>)"
      ]
     },
     "execution_count": 89,
     "metadata": {},
     "output_type": "execute_result"
    },
    {
     "data": {
      "image/png": "[encoded data removed]",
      "text/plain": [
       "<Figure size 432x288 with 1 Axes>"
      ]
     },
     "metadata": {
      "needs_background": "light"
     },
     "output_type": "display_data"
    }
   ],
   "source": [
    "x = stats.binom(30,.3).rvs(10000)\n",
    "\n",
    "plt.hist(x, bins=range(0, 30), align='left', width=1, edgecolor='black')"
   ]
  },
  {
   "cell_type": "code",
   "execution_count": 121,
   "metadata": {},
   "outputs": [
    {
     "data": {
      "text/plain": [
       "(array([  3.,  11.,  43., 131., 200., 267., 222.,  86.,  28.,   9.]),\n",
       " array([ 1.93135053,  5.29719998,  8.66304943, 12.02889888, 15.39474833,\n",
       "        18.76059778, 22.12644723, 25.49229668, 28.85814614, 32.22399559,\n",
       "        35.58984504]),\n",
       " <a list of 10 Patch objects>)"
      ]
     },
     "execution_count": 121,
     "metadata": {},
     "output_type": "execute_result"
    },
    {
     "data": {
      "image/png": "[encoded data removed]",
      "text/plain": [
       "<Figure size 432x288 with 1 Axes>"
      ]
     },
     "metadata": {
      "needs_background": "light"
     },
     "output_type": "display_data"
    }
   ],
   "source": [
    "x = stats.norm(20,5).rvs(1000)\n",
    "\n",
    "plt.hist(x, align='left', width=1, edgecolor='black')"
   ]
  },
  {
   "cell_type": "code",
   "execution_count": 133,
   "metadata": {},
   "outputs": [
    {
     "data": {
      "text/plain": [
       "array([[6, 5, 4, 2, 4, 6, 3, 1, 1, 2],\n",
       "       [3, 6, 5, 2, 2, 4, 5, 6, 3, 2],\n",
       "       [4, 6, 2, 5, 5, 4, 3, 3, 3, 1],\n",
       "       [1, 6, 1, 3, 5, 1, 2, 2, 5, 4],\n",
       "       [1, 3, 5, 4, 5, 1, 3, 4, 1, 3],\n",
       "       [4, 5, 3, 2, 4, 4, 6, 2, 1, 2],\n",
       "       [3, 1, 2, 4, 4, 1, 4, 1, 4, 2],\n",
       "       [2, 6, 1, 6, 1, 2, 3, 1, 6, 3],\n",
       "       [3, 4, 2, 1, 6, 1, 6, 1, 3, 3],\n",
       "       [3, 1, 3, 2, 4, 4, 6, 4, 1, 1],\n",
       "       [3, 2, 1, 1, 6, 5, 4, 2, 6, 5],\n",
       "       [1, 5, 4, 3, 6, 4, 1, 1, 2, 5],\n",
       "       [4, 1, 4, 6, 6, 1, 3, 5, 5, 5],\n",
       "       [2, 4, 2, 5, 6, 5, 1, 5, 1, 4],\n",
       "       [6, 4, 1, 6, 1, 5, 5, 2, 2, 4],\n",
       "       [2, 5, 1, 6, 4, 4, 6, 2, 1, 3],\n",
       "       [6, 5, 1, 6, 6, 1, 5, 5, 3, 4],\n",
       "       [6, 1, 2, 1, 1, 6, 4, 3, 1, 1],\n",
       "       [6, 1, 4, 3, 5, 3, 3, 4, 6, 1],\n",
       "       [2, 3, 3, 3, 2, 3, 3, 6, 1, 6],\n",
       "       [1, 5, 5, 4, 5, 1, 6, 6, 4, 5],\n",
       "       [1, 3, 5, 5, 2, 1, 6, 1, 2, 3],\n",
       "       [5, 1, 6, 2, 2, 1, 6, 2, 6, 6],\n",
       "       [5, 4, 5, 6, 1, 2, 1, 5, 5, 2],\n",
       "       [3, 3, 6, 1, 6, 4, 1, 6, 3, 5],\n",
       "       [6, 2, 1, 2, 3, 3, 1, 6, 2, 2],\n",
       "       [6, 4, 2, 2, 3, 3, 1, 3, 4, 6],\n",
       "       [4, 4, 6, 3, 1, 6, 1, 2, 2, 4],\n",
       "       [6, 5, 6, 4, 3, 6, 3, 5, 5, 3],\n",
       "       [6, 5, 5, 5, 3, 3, 1, 4, 2, 5],\n",
       "       [2, 5, 2, 2, 6, 1, 2, 3, 6, 2],\n",
       "       [6, 3, 6, 1, 6, 4, 2, 5, 3, 5],\n",
       "       [6, 6, 6, 2, 2, 2, 2, 4, 5, 4],\n",
       "       [5, 6, 6, 4, 4, 1, 1, 4, 5, 1],\n",
       "       [3, 3, 4, 4, 4, 5, 6, 5, 2, 4],\n",
       "       [3, 3, 2, 6, 4, 4, 4, 6, 2, 1],\n",
       "       [4, 3, 5, 6, 1, 2, 2, 5, 1, 5],\n",
       "       [1, 3, 2, 2, 6, 2, 1, 4, 3, 6],\n",
       "       [4, 5, 4, 1, 1, 2, 4, 6, 5, 5],\n",
       "       [2, 1, 1, 4, 4, 2, 2, 3, 2, 1],\n",
       "       [3, 5, 4, 5, 5, 3, 3, 3, 1, 3],\n",
       "       [4, 5, 6, 5, 4, 4, 1, 1, 3, 2],\n",
       "       [1, 5, 4, 4, 2, 1, 2, 5, 1, 1],\n",
       "       [4, 3, 5, 5, 2, 3, 4, 6, 3, 3],\n",
       "       [1, 3, 4, 2, 5, 6, 5, 2, 5, 4],\n",
       "       [5, 6, 6, 3, 2, 3, 5, 2, 3, 3],\n",
       "       [1, 4, 2, 5, 3, 4, 1, 6, 3, 6],\n",
       "       [2, 3, 1, 3, 5, 3, 2, 3, 5, 1],\n",
       "       [1, 2, 4, 5, 6, 1, 5, 1, 3, 6],\n",
       "       [4, 6, 1, 4, 1, 6, 4, 6, 3, 4],\n",
       "       [2, 4, 1, 4, 5, 4, 5, 3, 3, 6],\n",
       "       [5, 5, 5, 1, 2, 4, 5, 5, 1, 2],\n",
       "       [6, 4, 6, 2, 5, 6, 5, 3, 1, 1],\n",
       "       [4, 3, 5, 3, 4, 1, 4, 5, 3, 6],\n",
       "       [1, 5, 4, 2, 1, 6, 5, 5, 1, 6],\n",
       "       [3, 2, 4, 2, 4, 2, 3, 4, 6, 5],\n",
       "       [3, 1, 5, 5, 1, 1, 1, 5, 6, 1],\n",
       "       [2, 5, 3, 3, 3, 1, 1, 5, 1, 6],\n",
       "       [3, 1, 6, 1, 2, 3, 1, 4, 3, 3],\n",
       "       [6, 6, 1, 4, 3, 3, 2, 4, 1, 6],\n",
       "       [5, 5, 4, 6, 6, 6, 3, 2, 5, 1],\n",
       "       [4, 4, 3, 2, 2, 5, 3, 4, 5, 6],\n",
       "       [5, 4, 5, 2, 4, 6, 6, 4, 2, 1],\n",
       "       [3, 4, 4, 4, 1, 1, 4, 3, 3, 2],\n",
       "       [6, 6, 1, 2, 2, 5, 1, 5, 4, 3],\n",
       "       [1, 2, 2, 1, 4, 1, 6, 3, 2, 1],\n",
       "       [2, 2, 2, 5, 2, 2, 6, 2, 6, 2],\n",
       "       [5, 2, 4, 5, 4, 1, 5, 2, 3, 6],\n",
       "       [6, 6, 4, 4, 6, 6, 3, 2, 1, 2],\n",
       "       [4, 3, 6, 4, 3, 3, 5, 6, 5, 1],\n",
       "       [2, 2, 6, 5, 2, 2, 5, 3, 2, 3],\n",
       "       [2, 3, 1, 4, 3, 5, 3, 1, 4, 3],\n",
       "       [2, 4, 4, 6, 1, 1, 6, 2, 2, 3],\n",
       "       [4, 2, 3, 6, 6, 3, 5, 1, 5, 2],\n",
       "       [1, 4, 2, 3, 5, 4, 3, 4, 6, 2],\n",
       "       [3, 3, 4, 1, 6, 6, 5, 6, 5, 6],\n",
       "       [2, 1, 1, 3, 2, 5, 6, 5, 6, 6],\n",
       "       [5, 2, 3, 4, 5, 6, 1, 4, 6, 1],\n",
       "       [6, 3, 1, 6, 3, 4, 3, 1, 6, 2],\n",
       "       [3, 1, 4, 4, 3, 5, 6, 4, 6, 6],\n",
       "       [3, 1, 4, 4, 2, 2, 1, 3, 5, 1],\n",
       "       [1, 5, 5, 4, 4, 3, 1, 5, 5, 1],\n",
       "       [3, 1, 2, 6, 5, 2, 2, 1, 3, 6],\n",
       "       [6, 1, 2, 3, 4, 4, 2, 1, 5, 3],\n",
       "       [3, 3, 6, 2, 2, 4, 6, 1, 6, 1],\n",
       "       [3, 5, 2, 5, 4, 3, 5, 1, 1, 3],\n",
       "       [3, 3, 5, 2, 6, 5, 2, 6, 3, 3],\n",
       "       [5, 4, 2, 1, 4, 1, 3, 1, 6, 5],\n",
       "       [6, 5, 2, 6, 6, 3, 5, 5, 2, 3],\n",
       "       [3, 4, 3, 2, 4, 3, 3, 3, 6, 1],\n",
       "       [2, 5, 2, 2, 3, 5, 6, 6, 5, 5],\n",
       "       [1, 3, 2, 6, 6, 3, 1, 2, 6, 3],\n",
       "       [1, 5, 1, 3, 3, 2, 1, 5, 1, 1],\n",
       "       [5, 3, 1, 5, 1, 5, 3, 6, 4, 1],\n",
       "       [1, 6, 4, 2, 6, 3, 5, 3, 2, 5],\n",
       "       [2, 5, 4, 5, 5, 5, 3, 5, 5, 4],\n",
       "       [1, 5, 5, 4, 6, 1, 3, 2, 3, 2],\n",
       "       [5, 2, 6, 1, 3, 3, 6, 3, 6, 3],\n",
       "       [4, 3, 2, 6, 4, 5, 4, 2, 4, 3],\n",
       "       [6, 6, 6, 4, 5, 6, 2, 2, 4, 1]])"
      ]
     },
     "execution_count": 133,
     "metadata": {},
     "output_type": "execute_result"
    }
   ],
   "source": [
    "np.random.choice((1,2,3,4,5,6),1000).reshape(100,10)"
   ]
  }
 ],
 "metadata": {
  "kernelspec": {
   "display_name": "Python 3",
   "language": "python",
   "name": "python3"
  },
  "language_info": {
   "codemirror_mode": {
    "name": "ipython",
    "version": 3
   },
   "file_extension": ".py",
   "mimetype": "text/x-python",
   "name": "python",
   "nbconvert_exporter": "python",
   "pygments_lexer": "ipython3",
   "version": "3.7.6"
  }
 },
 "nbformat": 4,
 "nbformat_minor": 4
}
